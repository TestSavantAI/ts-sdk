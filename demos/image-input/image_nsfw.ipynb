{
 "cells": [
  {
   "cell_type": "code",
   "execution_count": 1,
   "id": "8e6e79ca",
   "metadata": {},
   "outputs": [
    {
     "data": {
      "text/plain": [
       "True"
      ]
     },
     "execution_count": 1,
     "metadata": {},
     "output_type": "execute_result"
    }
   ],
   "source": [
    "from test_savant.guard import InputGuard, OutputGuard\n",
    "from test_savant.guard.image_scanners import ImageNSFW\n",
    "from test_savant.guard.input_scanners import PromptInjection\n",
    "import os\n",
    "from dotenv import load_dotenv\n",
    "load_dotenv()"
   ]
  },
  {
   "cell_type": "code",
   "execution_count": 2,
   "id": "4038be4a",
   "metadata": {},
   "outputs": [],
   "source": [
    "ts_api = InputGuard(\n",
    "    API_KEY=os.environ.get(\"TEST_SAVANT_API_KEY\"),\n",
    "    PROJECT_ID=os.environ.get(\"TEST_SAVANT_PROJECT_ID\"),\n",
    "    remote_addr=os.environ.get(\"TEST_SAVANT_REMOTE_ADDR\")\n",
    ")"
   ]
  },
  {
   "cell_type": "code",
   "execution_count": 3,
   "id": "9d7edc6a",
   "metadata": {},
   "outputs": [],
   "source": [
    "img_nsfw = ImageNSFW(tag=\"base\")\n",
    "prompt_injection = PromptInjection(tag=\"small\")\n",
    "ts_api.add_scanner(img_nsfw)"
   ]
  },
  {
   "cell_type": "code",
   "execution_count": 4,
   "id": "ba289886",
   "metadata": {},
   "outputs": [
    {
     "data": {
      "text/plain": [
       "ScannerResult(sanitized_prompt=None, is_valid=True, scanners={'ImageNSFW:base': 0.0}, validity={'ImageNSFW:base': True}, files={'ImageNSFW:base': []})"
      ]
     },
     "execution_count": 4,
     "metadata": {},
     "output_type": "execute_result"
    }
   ],
   "source": [
    "ts_api.scan(prompt=None, files=[\"../docs/sfw.jpg\", \"../docs/sfw2.jpg\", \"../docs/hires.jpg\"])"
   ]
  },
  {
   "cell_type": "code",
   "execution_count": 5,
   "id": "cb6bf6af",
   "metadata": {},
   "outputs": [],
   "source": [
    "ts_api.add_scanner(prompt_injection)"
   ]
  },
  {
   "cell_type": "code",
   "execution_count": 6,
   "id": "c6238039",
   "metadata": {},
   "outputs": [
    {
     "ename": "Exception",
     "evalue": "Request failed with status code 422",
     "output_type": "error",
     "traceback": [
      "\u001b[31m---------------------------------------------------------------------------\u001b[39m",
      "\u001b[31mException\u001b[39m                                 Traceback (most recent call last)",
      "\u001b[36mCell\u001b[39m\u001b[36m \u001b[39m\u001b[32mIn[6]\u001b[39m\u001b[32m, line 1\u001b[39m\n\u001b[32m----> \u001b[39m\u001b[32m1\u001b[39m \u001b[43mts_api\u001b[49m\u001b[43m.\u001b[49m\u001b[43mscan\u001b[49m\u001b[43m(\u001b[49m\u001b[43mprompt\u001b[49m\u001b[43m=\u001b[49m\u001b[38;5;28;43;01mNone\u001b[39;49;00m\u001b[43m,\u001b[49m\u001b[43m \u001b[49m\u001b[43mfiles\u001b[49m\u001b[43m=\u001b[49m\u001b[43m[\u001b[49m\u001b[33;43m\"\u001b[39;49m\u001b[33;43m../docs/sfw.jpg\u001b[39;49m\u001b[33;43m\"\u001b[39;49m\u001b[43m,\u001b[49m\u001b[43m \u001b[49m\u001b[33;43m\"\u001b[39;49m\u001b[33;43m../docs/sfw2.jpg\u001b[39;49m\u001b[33;43m\"\u001b[39;49m\u001b[43m]\u001b[49m\u001b[43m)\u001b[49m\n",
      "\u001b[36mFile \u001b[39m\u001b[32m~/project/ts/ts_sdk/src/test_savant/guard/guard.py:408\u001b[39m, in \u001b[36mInputGuard.scan\u001b[39m\u001b[34m(self, prompt, files, is_async, callback)\u001b[39m\n\u001b[32m    405\u001b[39m     url = \u001b[33mf\u001b[39m\u001b[33m'\u001b[39m\u001b[38;5;132;01m{\u001b[39;00m\u001b[38;5;28mself\u001b[39m.remote_addr\u001b[38;5;132;01m}\u001b[39;00m\u001b[33m/guard/prompt-input\u001b[39m\u001b[33m'\u001b[39m\n\u001b[32m    407\u001b[39m request_body = \u001b[38;5;28mself\u001b[39m._prepare_request_json(prompt, \u001b[38;5;28mself\u001b[39m.PROJECT_ID, scanners_dict)\n\u001b[32m--> \u001b[39m\u001b[32m408\u001b[39m \u001b[38;5;28;01mreturn\u001b[39;00m \u001b[38;5;28;43mself\u001b[39;49m\u001b[43m.\u001b[49m\u001b[43m_make_request\u001b[49m\u001b[43m(\u001b[49m\u001b[43mjson\u001b[49m\u001b[43m.\u001b[49m\u001b[43mdumps\u001b[49m\u001b[43m(\u001b[49m\u001b[43mrequest_body\u001b[49m\u001b[43m)\u001b[49m\u001b[43m,\u001b[49m\u001b[43m \u001b[49m\u001b[43murl\u001b[49m\u001b[43m,\u001b[49m\u001b[43m \u001b[49m\u001b[43mfiles\u001b[49m\u001b[43m=\u001b[49m\u001b[43mfiles\u001b[49m\u001b[43m,\u001b[49m\u001b[43m \u001b[49m\u001b[43masync_mode\u001b[49m\u001b[43m=\u001b[49m\u001b[43mis_async\u001b[49m\u001b[43m,\u001b[49m\u001b[43m \u001b[49m\u001b[43mcallback\u001b[49m\u001b[43m=\u001b[49m\u001b[43mcallback\u001b[49m\u001b[43m)\u001b[49m\n",
      "\u001b[36mFile \u001b[39m\u001b[32m~/project/ts/ts_sdk/src/test_savant/guard/guard.py:150\u001b[39m, in \u001b[36mGuard._make_request\u001b[39m\u001b[34m(self, data, url, files, async_mode, callback)\u001b[39m\n\u001b[32m    148\u001b[39m \u001b[38;5;28;01mdef\u001b[39;00m\u001b[38;5;250m \u001b[39m\u001b[34m_make_request\u001b[39m(\u001b[38;5;28mself\u001b[39m, data, url: \u001b[38;5;28mstr\u001b[39m, files: List[\u001b[38;5;28mstr\u001b[39m]=\u001b[38;5;28;01mNone\u001b[39;00m, async_mode: \u001b[38;5;28mbool\u001b[39m = \u001b[38;5;28;01mFalse\u001b[39;00m, callback: Optional[Callback] = \u001b[38;5;28;01mNone\u001b[39;00m):\n\u001b[32m    149\u001b[39m     \u001b[38;5;28;01mif\u001b[39;00m files \u001b[38;5;129;01mis\u001b[39;00m \u001b[38;5;129;01mnot\u001b[39;00m \u001b[38;5;28;01mNone\u001b[39;00m \u001b[38;5;129;01mand\u001b[39;00m \u001b[38;5;28mlen\u001b[39m(files) > \u001b[32m0\u001b[39m:\n\u001b[32m--> \u001b[39m\u001b[32m150\u001b[39m         \u001b[38;5;28;01mreturn\u001b[39;00m \u001b[38;5;28;43mself\u001b[39;49m\u001b[43m.\u001b[49m\u001b[43m_make_multimodal_request\u001b[49m\u001b[43m(\u001b[49m\u001b[43mdata\u001b[49m\u001b[43m,\u001b[49m\u001b[43m \u001b[49m\u001b[43murl\u001b[49m\u001b[43m,\u001b[49m\u001b[43m \u001b[49m\u001b[43mfiles\u001b[49m\u001b[43m,\u001b[49m\u001b[43m \u001b[49m\u001b[43masync_mode\u001b[49m\u001b[43m=\u001b[49m\u001b[43masync_mode\u001b[49m\u001b[43m,\u001b[49m\u001b[43m \u001b[49m\u001b[43mcallback\u001b[49m\u001b[43m=\u001b[49m\u001b[43mcallback\u001b[49m\u001b[43m)\u001b[49m\n\u001b[32m    151\u001b[39m     \u001b[38;5;28;01melse\u001b[39;00m:\n\u001b[32m    152\u001b[39m         \u001b[38;5;28;01mreturn\u001b[39;00m \u001b[38;5;28mself\u001b[39m._make_text_request(data, url, async_mode=async_mode, callback=callback)\n",
      "\u001b[36mFile \u001b[39m\u001b[32m~/project/ts/ts_sdk/src/test_savant/guard/guard.py:222\u001b[39m, in \u001b[36mGuard._make_multimodal_request\u001b[39m\u001b[34m(self, data, url, files, async_mode, callback)\u001b[39m\n\u001b[32m    212\u001b[39m response = requests.post(\n\u001b[32m    213\u001b[39m     url,\n\u001b[32m    214\u001b[39m     headers={\n\u001b[32m   (...)\u001b[39m\u001b[32m    218\u001b[39m     files=payload_files\n\u001b[32m    219\u001b[39m )\n\u001b[32m    221\u001b[39m \u001b[38;5;28;01mif\u001b[39;00m response.status_code != \u001b[32m200\u001b[39m:\n\u001b[32m--> \u001b[39m\u001b[32m222\u001b[39m     \u001b[38;5;28;01mraise\u001b[39;00m \u001b[38;5;167;01mException\u001b[39;00m(\u001b[33mf\u001b[39m\u001b[33m\"\u001b[39m\u001b[33mRequest failed with status code \u001b[39m\u001b[38;5;132;01m{\u001b[39;00mresponse.status_code\u001b[38;5;132;01m}\u001b[39;00m\u001b[33m\"\u001b[39m)\n\u001b[32m    224\u001b[39m response_json = response.json()\n\u001b[32m    225\u001b[39m \u001b[38;5;28;01mreturn\u001b[39;00m ScannerResult(**response_json)\n",
      "\u001b[31mException\u001b[39m: Request failed with status code 422"
     ]
    }
   ],
   "source": [
    "ts_api.scan(prompt=None, files=[\"../docs/sfw.jpg\", \"../docs/sfw2.jpg\"])"
   ]
  },
  {
   "cell_type": "code",
   "execution_count": null,
   "id": "a923cb23",
   "metadata": {},
   "outputs": [],
   "source": []
  }
 ],
 "metadata": {
  "kernelspec": {
   "display_name": "py11",
   "language": "python",
   "name": "python3"
  },
  "language_info": {
   "codemirror_mode": {
    "name": "ipython",
    "version": 3
   },
   "file_extension": ".py",
   "mimetype": "text/x-python",
   "name": "python",
   "nbconvert_exporter": "python",
   "pygments_lexer": "ipython3",
   "version": "3.11.11"
  }
 },
 "nbformat": 4,
 "nbformat_minor": 5
}
