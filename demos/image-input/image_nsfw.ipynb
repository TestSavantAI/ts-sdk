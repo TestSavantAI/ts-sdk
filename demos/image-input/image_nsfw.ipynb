{
 "cells": [
  {
   "cell_type": "code",
   "execution_count": null,
   "id": "8e6e79ca",
   "metadata": {},
   "outputs": [
    {
     "data": {
      "text/plain": [
       "True"
      ]
     },
     "execution_count": 1,
     "metadata": {},
     "output_type": "execute_result"
    }
   ],
   "source": [
    "from test_savant.guard import InputGuard, OutputGuard\n",
    "from test_savant.guard.image_scanners import ImageNSFW\n",
    "from test_savant.guard.input_scanners import PromptInjection\n",
    "\n",
    "import os\n",
    "from dotenv import load_dotenv\n",
    "load_dotenv()"
   ]
  },
  {
   "cell_type": "code",
   "execution_count": 2,
   "id": "4038be4a",
   "metadata": {},
   "outputs": [],
   "source": [
    "ts_api = InputGuard(\n",
    "    API_KEY=os.environ.get(\"TEST_SAVANT_API_KEY\"),\n",
    "    PROJECT_ID=os.environ.get(\"TEST_SAVANT_PROJECT_ID\"),\n",
    "    remote_addr=os.environ.get(\"TEST_SAVANT_REMOTE_ADDR\")\n",
    ")"
   ]
  },
  {
   "cell_type": "code",
   "execution_count": 3,
   "id": "9d7edc6a",
   "metadata": {},
   "outputs": [],
   "source": [
    "img_nsfw = ImageNSFW(tag=\"base\")\n",
    "prompt_injection = PromptInjection(tag=\"small\")\n",
    "ts_api.add_scanner(img_nsfw)"
   ]
  },
  {
   "cell_type": "code",
   "execution_count": 4,
   "id": "ba289886",
   "metadata": {},
   "outputs": [
    {
     "data": {
      "text/plain": [
       "ScannerResult(sanitized_prompt=None, is_valid=True, scanners={'ImageNSFW:base': 0.0}, validity={'ImageNSFW:base': True}, files={'ImageNSFW:base': []})"
      ]
     },
     "execution_count": 4,
     "metadata": {},
     "output_type": "execute_result"
    }
   ],
   "source": [
    "ts_api.scan(prompt=None, files=[\"../docs/sfw.jpg\", \"../docs/sfw2.jpg\", \"../docs/hires.jpg\"])"
   ]
  },
  {
   "cell_type": "code",
   "execution_count": 5,
   "id": "cb6bf6af",
   "metadata": {},
   "outputs": [],
   "source": [
    "ts_api.add_scanner(prompt_injection)"
   ]
  },
  {
   "cell_type": "code",
   "execution_count": null,
   "id": "c6238039",
   "metadata": {},
   "outputs": [],
   "source": [
    "ts_api.scan(prompt=None, files=[\"../docs/sfw.jpg\", \"../docs/sfw2.jpg\"])"
   ]
  }
 ],
 "metadata": {
  "kernelspec": {
   "display_name": "py11",
   "language": "python",
   "name": "python3"
  },
  "language_info": {
   "codemirror_mode": {
    "name": "ipython",
    "version": 3
   },
   "file_extension": ".py",
   "mimetype": "text/x-python",
   "name": "python",
   "nbconvert_exporter": "python",
   "pygments_lexer": "ipython3",
   "version": "3.11.11"
  }
 },
 "nbformat": 4,
 "nbformat_minor": 5
}
