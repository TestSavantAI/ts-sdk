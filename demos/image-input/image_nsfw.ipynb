{
 "cells": [
  {
   "cell_type": "code",
   "execution_count": 1,
   "id": "8e6e79ca",
   "metadata": {},
   "outputs": [
    {
     "ename": "ModuleNotFoundError",
     "evalue": "No module named 'testsavant'",
     "output_type": "error",
     "traceback": [
      "\u001b[31m---------------------------------------------------------------------------\u001b[39m",
      "\u001b[31mModuleNotFoundError\u001b[39m                       Traceback (most recent call last)",
      "\u001b[36mCell\u001b[39m\u001b[36m \u001b[39m\u001b[32mIn[1]\u001b[39m\u001b[32m, line 1\u001b[39m\n\u001b[32m----> \u001b[39m\u001b[32m1\u001b[39m \u001b[38;5;28;01mfrom\u001b[39;00m\u001b[38;5;250m \u001b[39m\u001b[34;01mtestsavant\u001b[39;00m\u001b[34;01m.\u001b[39;00m\u001b[34;01mguard\u001b[39;00m\u001b[38;5;250m \u001b[39m\u001b[38;5;28;01mimport\u001b[39;00m InputGuard, OutputGuard\n\u001b[32m      2\u001b[39m \u001b[38;5;28;01mfrom\u001b[39;00m\u001b[38;5;250m \u001b[39m\u001b[34;01mtestsavant\u001b[39;00m\u001b[34;01m.\u001b[39;00m\u001b[34;01mguard\u001b[39;00m\u001b[34;01m.\u001b[39;00m\u001b[34;01mimage_scanners\u001b[39;00m\u001b[38;5;250m \u001b[39m\u001b[38;5;28;01mimport\u001b[39;00m ImageNSFW\n\u001b[32m      3\u001b[39m \u001b[38;5;28;01mfrom\u001b[39;00m\u001b[38;5;250m \u001b[39m\u001b[34;01mtestsavant\u001b[39;00m\u001b[34;01m.\u001b[39;00m\u001b[34;01mguard\u001b[39;00m\u001b[34;01m.\u001b[39;00m\u001b[34;01minput_scanners\u001b[39;00m\u001b[38;5;250m \u001b[39m\u001b[38;5;28;01mimport\u001b[39;00m PromptInjection\n",
      "\u001b[31mModuleNotFoundError\u001b[39m: No module named 'testsavant'"
     ]
    }
   ],
   "source": [
    "from testsavant.guard import InputGuard, OutputGuard\n",
    "from testsavant.guard.image_scanners import ImageNSFW\n",
    "from testsavant.guard.input_scanners import PromptInjection\n",
    "\n",
    "import os\n",
    "from dotenv import load_dotenv\n",
    "load_dotenv()"
   ]
  },
  {
   "cell_type": "code",
   "execution_count": null,
   "id": "4038be4a",
   "metadata": {},
   "outputs": [],
   "source": [
    "ts_api = InputGuard(\n",
    "    API_KEY=os.environ.get(\"TEST_SAVANT_API_KEY\"),\n",
    "    PROJECT_ID=os.environ.get(\"TEST_SAVANT_PROJECT_ID\"),\n",
    "    remote_addr=os.environ.get(\"TEST_SAVANT_REMOTE_ADDR\")\n",
    ")"
   ]
  },
  {
   "cell_type": "code",
   "execution_count": null,
   "id": "9d7edc6a",
   "metadata": {},
   "outputs": [],
   "source": [
    "img_nsfw = ImageNSFW(tag=\"base\")\n",
    "prompt_injection = PromptInjection(tag=\"small\")\n",
    "ts_api.add_scanner(img_nsfw)"
   ]
  },
  {
   "cell_type": "code",
   "execution_count": null,
   "id": "ba289886",
   "metadata": {},
   "outputs": [],
   "source": [
    "ts_api.scan(prompt=None, files=[\"../docs/sfw.jpg\", \"../docs/sfw2.jpg\", \"../docs/hires.jpg\"])"
   ]
  },
  {
   "cell_type": "code",
   "execution_count": null,
   "id": "cb6bf6af",
   "metadata": {},
   "outputs": [],
   "source": [
    "ts_api.add_scanner(prompt_injection)"
   ]
  },
  {
   "cell_type": "code",
   "execution_count": null,
   "id": "c6238039",
   "metadata": {},
   "outputs": [],
   "source": [
    "ts_api.scan(prompt=None, files=[\"../docs/sfw.jpg\", \"../docs/sfw2.jpg\"])"
   ]
  }
 ],
 "metadata": {
  "kernelspec": {
   "display_name": "py11",
   "language": "python",
   "name": "python3"
  },
  "language_info": {
   "codemirror_mode": {
    "name": "ipython",
    "version": 3
   },
   "file_extension": ".py",
   "mimetype": "text/x-python",
   "name": "python",
   "nbconvert_exporter": "python",
   "pygments_lexer": "ipython3",
   "version": "3.11.11"
  }
 },
 "nbformat": 4,
 "nbformat_minor": 5
}
