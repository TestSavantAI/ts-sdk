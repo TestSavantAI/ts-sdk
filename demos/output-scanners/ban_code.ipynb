{
 "cells": [
  {
   "cell_type": "code",
   "execution_count": null,
   "id": "c7136db7",
   "metadata": {},
   "outputs": [],
   "source": [
    "from testsavant.guard import InputGuard, OutputGuard\n",
    "from testsavant.guard.output_scanners import BanCode\n",
    "import os\n",
    "from dotenv import load_dotenv\n",
    "load_dotenv()"
   ]
  },
  {
   "cell_type": "code",
   "execution_count": null,
   "id": "7c7a9c6a",
   "metadata": {},
   "outputs": [],
   "source": [
    "def dummy_llm(input):\n",
    "    return input\n",
    "long_article = \"Once up on a time, in a land far, far away, there lived a young princess named Aurora. She was kind and gentle, with a heart full of love for all living things. One day, while wandering through the forest, she came across a small cottage where\"\n",
    "print(len(long_article))"
   ]
  },
  {
   "cell_type": "code",
   "execution_count": null,
   "id": "20cc39f7",
   "metadata": {},
   "outputs": [],
   "source": [
    "code_example = \"\"\"\n",
    "import time, os.path\n",
    "photofiles = ['img_1074.jpg', 'img_1076.jpg', 'img_1077.jpg']\n",
    "class BatchRename(Template):\n",
    "    delimiter = '%'\n",
    "\n",
    "fmt = input('Enter rename style (%d-date %n-seqnum %f-format):  ')\n",
    "\n",
    "\n",
    "t = BatchRename(fmt)\n",
    "date = time.strftime('%d%b%y')\n",
    "for i, filename in enumerate(photofiles):\n",
    "    base, ext = os.path.splitext(filename)\n",
    "    newname = t.substitute(d=date, n=i, f=ext)\n",
    "    print('{0} --> {1}'.format(filename, newname))\n",
    "\"\"\""
   ]
  },
  {
   "cell_type": "code",
   "execution_count": null,
   "id": "eb1affde",
   "metadata": {},
   "outputs": [],
   "source": [
    "ts_api = OutputGuard(\n",
    "    API_KEY=os.environ.get(\"TEST_SAVANT_API_KEY\"),\n",
    "    PROJECT_ID=os.environ.get(\"TEST_SAVANT_PROJECT_ID\"),\n",
    "    remote_addr=os.environ.get(\"TEST_SAVANT_REMOTE_ADDR\")\n",
    ")"
   ]
  },
  {
   "cell_type": "code",
   "execution_count": null,
   "id": "e3ab2028",
   "metadata": {},
   "outputs": [],
   "source": [
    "ban_code = BanCode(tag=\"base\", threshold=0.5)"
   ]
  },
  {
   "cell_type": "code",
   "execution_count": null,
   "id": "5cd603b8",
   "metadata": {},
   "outputs": [],
   "source": [
    "ts_api.add_scanner(ban_code)"
   ]
  },
  {
   "cell_type": "markdown",
   "id": "15ef0046",
   "metadata": {},
   "source": [
    "### short text with code in it"
   ]
  },
  {
   "cell_type": "code",
   "execution_count": null,
   "id": "9b6993b5",
   "metadata": {},
   "outputs": [],
   "source": [
    "result = ts_api.scan(None, code_example)\n",
    "if result.is_valid:\n",
    "    # call your llm here\n",
    "    llm_output = dummy_llm(code_example)\n",
    "    print(\"LLM api called\")\n",
    "else:\n",
    "    print(\"User request blocked\")"
   ]
  },
  {
   "cell_type": "markdown",
   "id": "ea17b067",
   "metadata": {},
   "source": [
    "### a very long article without code"
   ]
  },
  {
   "cell_type": "code",
   "execution_count": null,
   "id": "cc41d0ad",
   "metadata": {},
   "outputs": [],
   "source": [
    "result = ts_api.scan(None, long_article)\n",
    "if result.is_valid:\n",
    "    # call your llm here\n",
    "    llm_output = dummy_llm(code_example)\n",
    "    print(\"LLM api called\")\n",
    "else:\n",
    "    print(\"User request blocked\")"
   ]
  },
  {
   "cell_type": "markdown",
   "id": "5da7cdeb",
   "metadata": {},
   "source": [
    "### what if we have a very long article with code?"
   ]
  },
  {
   "cell_type": "code",
   "execution_count": null,
   "id": "b7e6e8c2",
   "metadata": {},
   "outputs": [],
   "source": [
    "result = ts_api.scan(None, long_article + code_example)\n",
    "if result.is_valid:\n",
    "    # call your llm here\n",
    "    llm_output = dummy_llm(code_example)\n",
    "    print(\"LLM api called\")\n",
    "else:\n",
    "    print(\"User request blocked\")"
   ]
  },
  {
   "cell_type": "code",
   "execution_count": null,
   "id": "db6d90b9",
   "metadata": {},
   "outputs": [],
   "source": []
  }
 ],
 "metadata": {
  "kernelspec": {
   "display_name": "py11",
   "language": "python",
   "name": "python3"
  },
  "language_info": {
   "codemirror_mode": {
    "name": "ipython",
    "version": 3
   },
   "file_extension": ".py",
   "mimetype": "text/x-python",
   "name": "python",
   "nbconvert_exporter": "python",
   "pygments_lexer": "ipython3",
   "version": "3.11.11"
  }
 },
 "nbformat": 4,
 "nbformat_minor": 5
}
