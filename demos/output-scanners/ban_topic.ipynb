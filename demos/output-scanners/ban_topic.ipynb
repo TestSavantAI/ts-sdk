{
 "cells": [
  {
   "cell_type": "code",
   "execution_count": 1,
   "id": "c7136db7",
   "metadata": {},
   "outputs": [
    {
     "data": {
      "text/plain": [
       "True"
      ]
     },
     "execution_count": 1,
     "metadata": {},
     "output_type": "execute_result"
    }
   ],
   "source": [
    "from test_savant.guard import InputGuard, OutputGuard\n",
    "from test_savant.guard.output_scanners import BanTopics\n",
    "import os\n",
    "from dotenv import load_dotenv\n",
    "load_dotenv()"
   ]
  },
  {
   "cell_type": "code",
   "execution_count": 2,
   "id": "7c7a9c6a",
   "metadata": {},
   "outputs": [
    {
     "name": "stdout",
     "output_type": "stream",
     "text": [
      "7810\n"
     ]
    }
   ],
   "source": [
    "def dummy_llm(input):\n",
    "    return input\n",
    "long_article = open(\"../docs/article.txt\", \"r\").read()\n",
    "print(len(long_article))\n",
    "\n",
    "ts_api = OutputGuard(\n",
    "    API_KEY=os.environ.get(\"TEST_SAVANT_API_KEY\"),\n",
    "    PROJECT_ID=os.environ.get(\"TEST_SAVANT_PROJECT_ID\"),\n",
    "    remote_addr=os.environ.get(\"TEST_SAVANT_REMOTE_ADDR\")\n",
    ")\n",
    "scanner = BanTopics(tag=\"small\", threshold=0.5)\n",
    "ts_api.add_scanner(scanner)"
   ]
  },
  {
   "cell_type": "code",
   "execution_count": 3,
   "id": "d20964e7",
   "metadata": {},
   "outputs": [
    {
     "name": "stdout",
     "output_type": "stream",
     "text": [
      "{'prompt': None, 'config': {'project_id': '3409d5dc-113a-402e-9884-47e72667eeb4', 'fail_fast': True, 'cache': {'enabled': True, 'ttl': 3600}}, 'use': [{'name': 'BanTopics:small', 'params': {'threshold': 0.5}, 'type': 'BanTopics'}], 'output': 'you fucking idiot, you are so stupid dhfbchbecf qekjbckjbc ihg87f324b 2ifniuc  bv2tsetr'}\n",
      "Prompt is valid\n",
      "{'prompt': None, 'config': {'project_id': '3409d5dc-113a-402e-9884-47e72667eeb4', 'fail_fast': True, 'cache': {'enabled': True, 'ttl': 3600}}, 'use': [{'name': 'BanTopics:small', 'params': {'threshold': 0.5}, 'type': 'BanTopics'}], 'output': 'you fucking idiot, you are so stupid dhfbchbecf qekjbckjbc ihg87f324b 2ifniuc  bv2tsetr The woman had died without pain, quietly, as a woman should whose life had been blameless. Now she was resting in her bed, lying on her back, her eyes closed, her features calm, her long white hair carefully arranged as though she had done it up ten minutes before dying. The whole pale countenance of the dead woman was so collected, so calm, so resigned that one could feel what a sweet soul had lived in that body, what a quiet existence this old soul had led, how easy and pure the death of this parent had been.\\n\\nKneeling beside the bed, her son, a magistrate with inflexible principles, and her daughter, Marguerite, known as Sister Eulalie, were weeping as though their hearts would break. She had, from childhood up, armed them with a strict moral code, teaching them religion, without weakness, and duty, without compromise. He, the man, had become a judge and handled the law as a weapon with which he smote the weak ones without pity. She, the girl, influenced by the virtue which had bathed her in this austere family, had become the bride of the Church through her loathing for man.\\n\\nThey had hardly known their father, knowing only that he had made their mother most unhappy, without being told any other details.\\n\\nThe nun was wildly-kissing the dead woman\\'s hand, an ivory hand as white as the large crucifix lying across the bed. On the other side of the long body the other hand seemed still to be holding the sheet in the death grasp; and the sheet had preserved the little creases as a memory of those last movements which precede eternal immobility.\\n\\nA few light taps on the door caused the two sobbing heads to look up, and the priest, who had just come from dinner, returned. He was red and out of breath from his interrupted digestion, for he had made himself a strong mixture of coffee and brandy in order to combat the fatigue of the last few nights and of the wake which was beginning.\\n\\nHe looked sad, with that assumed sadness of the priest for whom death is a bread winner. He crossed himself and approaching with his professional gesture: \"Well, my poor children! I have come to help you pass these last sad hours.\" But Sister Eulalie suddenly arose. \"Thank you, \"father, but my brother and I prefer to remain alone with her. This is our last chance to see her, and we wish to be together, all three of us, as we--we--used to be when we were small and our poor mo--mother----\"\\n\\nGrief and tears stopped her; she could not continue.\\n\\nOnce more serene, the priest bowed, thinking of his bed. \"As you wish, my children.\" He kneeled, crossed himself, prayed, arose and went out quietly, murmuring: \"She was a saint!\"\\n\\nThey remained alone, the dead woman and her children. The ticking of the clock, hidden in the shadow, could be heard distinctly, and through the open window drifted in the sweet smell of hay and of woods, together with the soft moonlight. No other noise could be heard over the land except the occasional croaking of the frog or the chirping of some belated insect. An infinite peace, a divine melancholy, a silent serenity surrounded this dead woman, seemed to be breathed out from her and to appease nature itself.\\n\\nThen the judge, still kneeling, his head buried in the bed clothes, cried in a voice altered by grief and deadened by the sheets and blankets: \"Mamma, mamma, mamma!\" And his sister, frantically striking her forehead against the woodwork, convulsed, twitching and trembling as in an epileptic fit, moaned: \"Jesus, Jesus, mamma, Jesus!\" And both of them, shaken by a storm of grief, gasped and choked.\\n\\nThe crisis slowly calmed down and they began to weep quietly, just as on the sea when a calm follows a squall.\\n\\nA rather long time passed and they arose and looked at their dead. And the memories, those distant memories, yesterday so dear, to-day so torturing, came to their minds with all the little forgotten details, those little intimate familiar details which bring back to life the one who has left. They recalled to each other circumstances, words, smiles, intonations of the mother who was no longer to speak to them. They saw her again happy and calm. They remembered things which she had said, and a little motion of the hand, like beating time, which she often used when emphasizing something important.\\n\\nAnd they loved her as they never had loved her before. They measured the depth of their grief, and thus they discovered how lonely they would find themselves.\\n\\nIt was their prop, their guide, their whole youth, all the best part of their lives which was disappearing. It was their bond with life, their mother, their mamma, the connecting link with their forefathers which they would thenceforth miss. They now became solitary, lonely beings; they could no longer look back.\\n\\nThe nun said to her brother: \"You remember how mamma used always to read her old letters; they are all there in that drawer. Let us, in turn, read them; let us live her whole life through tonight beside her! It would be like a road to the cross, like making the acquaintance of her mother, of our grandparents, whom we never knew, but whose letters are there and of whom she so often spoke, do you remember?\"\\n\\nOut of the drawer they took about ten little packages of yellow paper, tied with care and arranged one beside the other. They threw these relics on the bed and chose one of them on which the word \"Father\" was written. They opened and read it.\\n\\nIt was one of those old-fashioned letters which one finds in old family desk drawers, those epistles which smell of another century. The first one started: \"My dear,\" another one: \"My beautiful little girl,\" others: \"My dear child,\" or: \"My dear (laughter.\" And suddenly the nun began to read aloud, to read over to the dead woman her whole history, all her tender memories. The judge, resting his elbow on the bed, was listening with his eyes fastened on his mother. The motionless body seemed happy.\\n\\nSister Eulalie, interrupting herself, said suddenly:\\n\\n\"These ought to be put in the grave with her; they ought to be used as a shroud and she ought to be buried in it.\" She took another package, on which no name was written. She began to read in a firm voice: \"My adored one, I love you wildly. Since yesterday I have been suffering the tortures of the damned, haunted by our memory. I feel your lips against mine, your eyes in mine, your breast against mine. I love you, I love you! You have driven me mad. My arms open, I gasp, moved by a wild desire to hold you again. My whole soul and body cries out for you, wants you. I have kept in my mouth the taste of your kisses--\"\\n\\nThe judge had straightened himself up. The nun stopped reading. He snatched the letter from her and looked for the signature. There was none, but only under the words, \"The man who adores you,\" the name \"Henry.\" Their father\\'s name was Rene. Therefore this was not from him. The son then quickly rummaged through the package of letters, took one out and read: \"I can no longer live without your caresses.\" Standing erect, severe as when sitting on the bench, he looked unmoved at the dead woman. The nun, straight as a statue, tears trembling in the corners of her eyes, was watching her brother, waiting. Then he crossed the room slowly, went to the window and stood there, gazing out into the dark night.\\n\\nWhen he turned around again Sister Eulalie, her eyes dry now, was still standing near the bed, her head bent down.\\n\\nHe stepped forward, quickly picked up the letters and threw them pell-mell back into the drawer. Then he closed the curtains of the bed.\\n\\nWhen daylight made the candles on the table turn pale the son slowly left his armchair, and without looking again at the mother upon whom he had passed sentence, severing the tie that united her to son and daughter, he said slowly: \"Let us now retire, sister.\"'}\n",
      "Prompt is valid\n",
      "{'prompt': None, 'config': {'project_id': '3409d5dc-113a-402e-9884-47e72667eeb4', 'fail_fast': True, 'cache': {'enabled': True, 'ttl': 3600}}, 'use': [{'name': 'BanTopics:small', 'params': {'threshold': 0.5}, 'type': 'BanTopics'}], 'output': 'The woman had died without pain, quietly, as a woman should whose life had been blameless. Now she was resting in her bed, lying on her back, her eyes closed, her features calm, her long white hair carefully arranged as though she had done it up ten minutes before dying. The whole pale countenance of the dead woman was so collected, so calm, so resigned that one could feel what a sweet soul had lived in that body, what a quiet existence this old soul had led, how easy and pure the death of this parent had been.\\n\\nKneeling beside the bed, her son, a magistrate with inflexible principles, and her daughter, Marguerite, known as Sister Eulalie, were weeping as though their hearts would break. She had, from childhood up, armed them with a strict moral code, teaching them religion, without weakness, and duty, without compromise. He, the man, had become a judge and handled the law as a weapon with which he smote the weak ones without pity. She, the girl, influenced by the virtue which had bathed her in this austere family, had become the bride of the Church through her loathing for man.\\n\\nThey had hardly known their father, knowing only that he had made their mother most unhappy, without being told any other details.\\n\\nThe nun was wildly-kissing the dead woman\\'s hand, an ivory hand as white as the large crucifix lying across the bed. On the other side of the long body the other hand seemed still to be holding the sheet in the death grasp; and the sheet had preserved the little creases as a memory of those last movements which precede eternal immobility.\\n\\nA few light taps on the door caused the two sobbing heads to look up, and the priest, who had just come from dinner, returned. He was red and out of breath from his interrupted digestion, for he had made himself a strong mixture of coffee and brandy in order to combat the fatigue of the last few nights and of the wake which was beginning.\\n\\nHe looked sad, with that assumed sadness of the priest for whom death is a bread winner. He crossed himself and approaching with his professional gesture: \"Well, my poor children! I have come to help you pass these last sad hours.\" But Sister Eulalie suddenly arose. \"Thank you, \"father, but my brother and I prefer to remain alone with her. This is our last chance to see her, and we wish to be together, all three of us, as we--we--used to be when we were small and our poor mo--mother----\"\\n\\nGrief and tears stopped her; she could not continue.\\n\\nOnce more serene, the priest bowed, thinking of his bed. \"As you wish, my children.\" He kneeled, crossed himself, prayed, arose and went out quietly, murmuring: \"She was a saint!\"\\n\\nThey remained alone, the dead woman and her children. The ticking of the clock, hidden in the shadow, could be heard distinctly, and through the open window drifted in the sweet smell of hay and of woods, together with the soft moonlight. No other noise could be heard over the land except the occasional croaking of the frog or the chirping of some belated insect. An infinite peace, a divine melancholy, a silent serenity surrounded this dead woman, seemed to be breathed out from her and to appease nature itself.\\n\\nThen the judge, still kneeling, his head buried in the bed clothes, cried in a voice altered by grief and deadened by the sheets and blankets: \"Mamma, mamma, mamma!\" And his sister, frantically striking her forehead against the woodwork, convulsed, twitching and trembling as in an epileptic fit, moaned: \"Jesus, Jesus, mamma, Jesus!\" And both of them, shaken by a storm of grief, gasped and choked.\\n\\nThe crisis slowly calmed down and they began to weep quietly, just as on the sea when a calm follows a squall.\\n\\nA rather long time passed and they arose and looked at their dead. And the memories, those distant memories, yesterday so dear, to-day so torturing, came to their minds with all the little forgotten details, those little intimate familiar details which bring back to life the one who has left. They recalled to each other circumstances, words, smiles, intonations of the mother who was no longer to speak to them. They saw her again happy and calm. They remembered things which she had said, and a little motion of the hand, like beating time, which she often used when emphasizing something important.\\n\\nAnd they loved her as they never had loved her before. They measured the depth of their grief, and thus they discovered how lonely they would find themselves.\\n\\nIt was their prop, their guide, their whole youth, all the best part of their lives which was disappearing. It was their bond with life, their mother, their mamma, the connecting link with their forefathers which they would thenceforth miss. They now became solitary, lonely beings; they could no longer look back.\\n\\nThe nun said to her brother: \"You remember how mamma used always to read her old letters; they are all there in that drawer. Let us, in turn, read them; let us live her whole life through tonight beside her! It would be like a road to the cross, like making the acquaintance of her mother, of our grandparents, whom we never knew, but whose letters are there and of whom she so often spoke, do you remember?\"\\n\\nOut of the drawer they took about ten little packages of yellow paper, tied with care and arranged one beside the other. They threw these relics on the bed and chose one of them on which the word \"Father\" was written. They opened and read it.\\n\\nIt was one of those old-fashioned letters which one finds in old family desk drawers, those epistles which smell of another century. The first one started: \"My dear,\" another one: \"My beautiful little girl,\" others: \"My dear child,\" or: \"My dear (laughter.\" And suddenly the nun began to read aloud, to read over to the dead woman her whole history, all her tender memories. The judge, resting his elbow on the bed, was listening with his eyes fastened on his mother. The motionless body seemed happy.\\n\\nSister Eulalie, interrupting herself, said suddenly:\\n\\n\"These ought to be put in the grave with her; they ought to be used as a shroud and she ought to be buried in it.\" She took another package, on which no name was written. She began to read in a firm voice: \"My adored one, I love you wildly. Since yesterday I have been suffering the tortures of the damned, haunted by our memory. I feel your lips against mine, your eyes in mine, your breast against mine. I love you, I love you! You have driven me mad. My arms open, I gasp, moved by a wild desire to hold you again. My whole soul and body cries out for you, wants you. I have kept in my mouth the taste of your kisses--\"\\n\\nThe judge had straightened himself up. The nun stopped reading. He snatched the letter from her and looked for the signature. There was none, but only under the words, \"The man who adores you,\" the name \"Henry.\" Their father\\'s name was Rene. Therefore this was not from him. The son then quickly rummaged through the package of letters, took one out and read: \"I can no longer live without your caresses.\" Standing erect, severe as when sitting on the bench, he looked unmoved at the dead woman. The nun, straight as a statue, tears trembling in the corners of her eyes, was watching her brother, waiting. Then he crossed the room slowly, went to the window and stood there, gazing out into the dark night.\\n\\nWhen he turned around again Sister Eulalie, her eyes dry now, was still standing near the bed, her head bent down.\\n\\nHe stepped forward, quickly picked up the letters and threw them pell-mell back into the drawer. Then he closed the curtains of the bed.\\n\\nWhen daylight made the candles on the table turn pale the son slowly left his armchair, and without looking again at the mother upon whom he had passed sentence, severing the tie that united her to son and daughter, he said slowly: \"Let us now retire, sister.\" you fucking idiot, you are so stupid dhfbchbecf qekjbckjbc ihg87f324b 2ifniuc  bv2tsetr'}\n",
      "Prompt is valid\n"
     ]
    }
   ],
   "source": [
    "toxic_prompt = \"you fucking idiot, you are so stupid dhfbchbecf qekjbckjbc ihg87f324b 2ifniuc  bv2tsetr\"\n",
    "prompts = [toxic_prompt, toxic_prompt + \" \" + long_article, long_article + \" \" + toxic_prompt]\n",
    "\n",
    "for prompt in prompts:\n",
    "    result = ts_api.scan(None, prompt)\n",
    "    if result.is_valid:\n",
    "        print(\"Prompt is valid\")\n",
    "    else:\n",
    "        print(\"Prompt is invalid\")"
   ]
  }
 ],
 "metadata": {
  "kernelspec": {
   "display_name": "py11",
   "language": "python",
   "name": "python3"
  },
  "language_info": {
   "codemirror_mode": {
    "name": "ipython",
    "version": 3
   },
   "file_extension": ".py",
   "mimetype": "text/x-python",
   "name": "python",
   "nbconvert_exporter": "python",
   "pygments_lexer": "ipython3",
   "version": "3.11.11"
  }
 },
 "nbformat": 4,
 "nbformat_minor": 5
}
