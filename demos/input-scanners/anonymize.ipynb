{
 "cells": [
  {
   "cell_type": "code",
   "execution_count": 1,
   "id": "c7136db7",
   "metadata": {},
   "outputs": [
    {
     "data": {
      "text/plain": [
       "True"
      ]
     },
     "execution_count": 1,
     "metadata": {},
     "output_type": "execute_result"
    }
   ],
   "source": [
    "from testsavant.guard import InputGuard, OutputGuard\n",
    "from testsavant.guard.input_scanners import Anonymize\n",
    "import os\n",
    "from dotenv import load_dotenv\n",
    "load_dotenv()"
   ]
  },
  {
   "cell_type": "code",
   "execution_count": 2,
   "id": "7c7a9c6a",
   "metadata": {},
   "outputs": [
    {
     "name": "stdout",
     "output_type": "stream",
     "text": [
      "7810\n"
     ]
    }
   ],
   "source": [
    "def dummy_llm(input):\n",
    "    return input\n",
    "long_article = open(\"../docs/article.txt\", \"r\").read()\n",
    "print(len(long_article))\n",
    "\n",
    "ts_api = InputGuard(\n",
    "    API_KEY=os.environ.get(\"TEST_SAVANT_API_KEY\"),\n",
    "    PROJECT_ID=os.environ.get(\"TEST_SAVANT_PROJECT_ID\"),\n",
    "    remote_addr=os.environ.get(\"TEST_SAVANT_REMOTE_ADDR\")\n",
    ")\n",
    "scanner = Anonymize(tag=\"base\", threshold=0.6, use_faker=False, redact=False, entity_types=['CREDIT_CARD', 'US_SSN_RE'])\n",
    "ts_api.add_scanner(scanner)"
   ]
  },
  {
   "cell_type": "code",
   "execution_count": 3,
   "id": "d20964e7",
   "metadata": {},
   "outputs": [
    {
     "name": "stdout",
     "output_type": "stream",
     "text": [
      "Prompt is valid\n"
     ]
    }
   ],
   "source": [
    "prompt = \"Mr Don Smith is a software engineer. He works at a company called TechCorp and he is a colleague of Jane Doe. They are working on a project together. The project is about developing a new software application that will help people manage their tasks more efficiently. Mr Smith is very excited about this project and believes it will be a great success at google\"\n",
    "result = ts_api.scan(prompt)\n",
    "if result.is_valid:\n",
    "    print(\"Prompt is valid\")\n",
    "else:\n",
    "    print(\"Prompt is invalid\")"
   ]
  },
  {
   "cell_type": "code",
   "execution_count": 4,
   "id": "d8615cb8",
   "metadata": {},
   "outputs": [
    {
     "data": {
      "text/plain": [
       "'Mr Don Smith is a software engineer. He works at a company called TechCorp and he is a colleague of Jane Doe. They are working on a project together. The project is about developing a new software application that will help people manage their tasks more efficiently. Mr Smith is very excited about this project and believes it will be a great success at google'"
      ]
     },
     "execution_count": 4,
     "metadata": {},
     "output_type": "execute_result"
    }
   ],
   "source": [
    "result.sanitized_prompt\n"
   ]
  },
  {
   "cell_type": "code",
   "execution_count": 5,
   "id": "4ebca458",
   "metadata": {},
   "outputs": [
    {
     "data": {
      "text/plain": [
       "(361, 361)"
      ]
     },
     "execution_count": 5,
     "metadata": {},
     "output_type": "execute_result"
    }
   ],
   "source": [
    "len(prompt), len(result.sanitized_prompt)"
   ]
  },
  {
   "cell_type": "code",
   "execution_count": 6,
   "id": "ea5df9ef",
   "metadata": {},
   "outputs": [
    {
     "data": {
      "text/plain": [
       "(65, 65)"
      ]
     },
     "execution_count": 6,
     "metadata": {},
     "output_type": "execute_result"
    }
   ],
   "source": [
    "len(prompt.split()), len(result.sanitized_prompt.split())"
   ]
  },
  {
   "cell_type": "code",
   "execution_count": 7,
   "id": "2bd952e5",
   "metadata": {},
   "outputs": [
    {
     "data": {
      "text/plain": [
       "(1460, 1460)"
      ]
     },
     "execution_count": 7,
     "metadata": {},
     "output_type": "execute_result"
    }
   ],
   "source": [
    "xprompt = prompt + \" \"  + long_article\n",
    "result = ts_api.scan(xprompt)\n",
    "len(xprompt.split()), len(result.sanitized_prompt.split())"
   ]
  },
  {
   "cell_type": "code",
   "execution_count": 8,
   "id": "410d8de3",
   "metadata": {},
   "outputs": [],
   "source": [
    "nprompt = \"But Sister Eulalie suddenly arose. 'Thank you, 'father, but my brother and I prefer to remain alone with her. This is our last chance to see her, and we wish to be together, all three of us, as we--we--used to be when we were small and our poor mo--mother----'\\n\\nGrief and tears stopped her; she could not continue.\\n\\nOnce more serene, the priest bowed, thinking of his bed. 'As you wish, my children.' He kneeled, crossed himself, prayed, arose and went out quietly, murmuring: 'She was a saint!'\\n\\nThey remained alone, the dead woman and her children. The ticking of the clock, hidden in the shadow, could be heard distinctly, and through the open window drifted in the sweet smell of hay and of woods, together with the soft moonlight. No other noise could be heard over the land except the occasional croaking of the frog or the chirping of some belated insect. \"\n",
    "for i in range(100):\n",
    "    result = ts_api.scan(nprompt)"
   ]
  }
 ],
 "metadata": {
  "kernelspec": {
   "display_name": "py11",
   "language": "python",
   "name": "python3"
  },
  "language_info": {
   "codemirror_mode": {
    "name": "ipython",
    "version": 3
   },
   "file_extension": ".py",
   "mimetype": "text/x-python",
   "name": "python",
   "nbconvert_exporter": "python",
   "pygments_lexer": "ipython3",
   "version": "3.11.11"
  }
 },
 "nbformat": 4,
 "nbformat_minor": 5
}
