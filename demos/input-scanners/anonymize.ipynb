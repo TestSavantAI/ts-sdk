{
 "cells": [
  {
   "cell_type": "code",
   "execution_count": 1,
   "id": "c7136db7",
   "metadata": {},
   "outputs": [
    {
     "data": {
      "text/plain": [
       "True"
      ]
     },
     "execution_count": 1,
     "metadata": {},
     "output_type": "execute_result"
    }
   ],
   "source": [
    "from testsavant.guard import InputGuard, OutputGuard\n",
    "from testsavant.guard.input_scanners import Anonymize\n",
    "import os\n",
    "from dotenv import load_dotenv\n",
    "load_dotenv()"
   ]
  },
  {
   "cell_type": "code",
   "execution_count": 2,
   "id": "7c7a9c6a",
   "metadata": {},
   "outputs": [
    {
     "name": "stdout",
     "output_type": "stream",
     "text": [
      "708\n"
     ]
    }
   ],
   "source": [
    "def dummy_llm(input):\n",
    "    return input\n",
    "long_article = \"The company offered Mr Musk a substantial equity stake in Tesla, which he accepted. This is how companies like Tesla attract top talent and compete with established automakers. \" * 4\n",
    "print(len(long_article))\n",
    "\n",
    "ts_api = InputGuard(\n",
    "    API_KEY=os.environ.get(\"TEST_SAVANT_API_KEY\"),\n",
    "    PROJECT_ID=os.environ.get(\"TEST_SAVANT_PROJECT_ID\"),\n",
    "    remote_addr=os.environ.get(\"TEST_SAVANT_REMOTE_ADDR\")\n",
    ")\n",
    "scanner = Anonymize(tag=\"base\", threshold=0.5, use_faker=False, redact=False)\n",
    "ts_api.add_scanner(scanner)"
   ]
  },
  {
   "cell_type": "code",
   "execution_count": 3,
   "id": "d20964e7",
   "metadata": {},
   "outputs": [
    {
     "name": "stdout",
     "output_type": "stream",
     "text": [
      "Prompt is invalid\n"
     ]
    }
   ],
   "source": [
    "prompt = \"Mr Don Smith is a software engineer. He works at a company called TechCorp and he is a colleague of Jane Doe. They are working on a project together. The project is about developing a new software application that will help people manage their tasks more efficiently. Mr Smith is very excited about this project and believes it will be a great success at google\"\n",
    "result = ts_api.scan(prompt)\n",
    "if result.is_valid:\n",
    "    print(\"Prompt is valid\")\n",
    "else:\n",
    "    print(\"Prompt is invalid\")"
   ]
  },
  {
   "cell_type": "code",
   "execution_count": 4,
   "id": "d8615cb8",
   "metadata": {},
   "outputs": [
    {
     "data": {
      "text/plain": [
       "'Mr [REDACTED_PERSON_1] is a software engineer. He works at a company called TechCorp and he is a colleague of [REDACTED_PERSON_2] Doe. They are working on a project together. The project is about developing a new software application that will help people manage their tasks more efficiently. Mr [REDACTED_PERSON_3] is very excited about this project and believes it will be a great success at google'"
      ]
     },
     "execution_count": 4,
     "metadata": {},
     "output_type": "execute_result"
    }
   ],
   "source": [
    "result.sanitized_prompt\n"
   ]
  },
  {
   "cell_type": "code",
   "execution_count": 5,
   "id": "4ebca458",
   "metadata": {},
   "outputs": [
    {
     "data": {
      "text/plain": [
       "(361, 400)"
      ]
     },
     "execution_count": 5,
     "metadata": {},
     "output_type": "execute_result"
    }
   ],
   "source": [
    "len(prompt), len(result.sanitized_prompt)"
   ]
  },
  {
   "cell_type": "code",
   "execution_count": 6,
   "id": "ea5df9ef",
   "metadata": {},
   "outputs": [
    {
     "data": {
      "text/plain": [
       "(65, 64)"
      ]
     },
     "execution_count": 6,
     "metadata": {},
     "output_type": "execute_result"
    }
   ],
   "source": [
    "len(prompt.split()), len(result.sanitized_prompt.split())"
   ]
  },
  {
   "cell_type": "code",
   "execution_count": 7,
   "id": "2bd952e5",
   "metadata": {},
   "outputs": [
    {
     "data": {
      "text/plain": [
       "(177, 176)"
      ]
     },
     "execution_count": 7,
     "metadata": {},
     "output_type": "execute_result"
    }
   ],
   "source": [
    "xprompt = prompt + \" \"  + long_article\n",
    "result = ts_api.scan(xprompt)\n",
    "len(xprompt.split()), len(result.sanitized_prompt.split())"
   ]
  },
  {
   "cell_type": "code",
   "execution_count": 8,
   "id": "410d8de3",
   "metadata": {},
   "outputs": [
    {
     "name": "stdout",
     "output_type": "stream",
     "text": [
      "False\n",
      "Mr [REDACTED_PERSON_3] went to the Tesla factory to launch the new Tesla Model Y, early in the morning\n"
     ]
    }
   ],
   "source": [
    "nprompt = \"Mr Smith went to the Tesla factory to launch the new Tesla Model Y, early in the morning\"\n",
    "for i in range(1):\n",
    "    result = ts_api.scan(nprompt)\n",
    "    print(result.is_valid)\n",
    "    print(result.sanitized_prompt)"
   ]
  },
  {
   "cell_type": "code",
   "execution_count": 9,
   "id": "6c2963e3",
   "metadata": {},
   "outputs": [],
   "source": [
    "# # Use a pipeline as a high-level helper\n",
    "# from transformers import pipeline\n",
    "\n",
    "# pipe = pipeline(\"ner\", model=\"Isotonic/distilbert_finetuned_ai4privacy_v2\")"
   ]
  },
  {
   "cell_type": "code",
   "execution_count": 10,
   "id": "a7ea6421",
   "metadata": {},
   "outputs": [],
   "source": [
    "# pipe(nprompt)"
   ]
  },
  {
   "cell_type": "code",
   "execution_count": null,
   "id": "81c944a3",
   "metadata": {},
   "outputs": [],
   "source": []
  }
 ],
 "metadata": {
  "kernelspec": {
   "display_name": "py11",
   "language": "python",
   "name": "python3"
  },
  "language_info": {
   "codemirror_mode": {
    "name": "ipython",
    "version": 3
   },
   "file_extension": ".py",
   "mimetype": "text/x-python",
   "name": "python",
   "nbconvert_exporter": "python",
   "pygments_lexer": "ipython3",
   "version": "3.11.11"
  }
 },
 "nbformat": 4,
 "nbformat_minor": 5
}
