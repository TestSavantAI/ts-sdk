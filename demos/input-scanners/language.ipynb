{
 "cells": [
  {
   "cell_type": "code",
   "execution_count": 3,
   "id": "a270793f",
   "metadata": {},
   "outputs": [
    {
     "data": {
      "text/plain": [
       "True"
      ]
     },
     "execution_count": 3,
     "metadata": {},
     "output_type": "execute_result"
    }
   ],
   "source": [
    "from testsavant.guard import InputGuard, OutputGuard\n",
    "from testsavant.guard.input_scanners import Language\n",
    "import os\n",
    "import dotenv\n",
    "dotenv.load_dotenv()"
   ]
  },
  {
   "cell_type": "code",
   "execution_count": 4,
   "id": "04b9d4f6",
   "metadata": {},
   "outputs": [],
   "source": [
    "long_article = \"Start a story: Once upon a time in a land far, far away, there lived a young prince named Alex. He was known throughout the kingdom for his bravery and kindness. One day, while exploring the enchanted forest near his castle, Alex stumbled upon a hidden cave. Inside the cave, he discovered a magical sword that glowed with an otherworldly light. As he grasped the hilt of the sword, he felt a surge of power coursing through his veins. Little did he know, this sword was destined to help him on a quest to save his kingdom from an ancient evil that threatened to destroy everything he held dear. With determination in his heart and the magical sword by his side, Prince Alex set out on an epic adventure that would test his courage and strength like never before.\"\n",
    "ts_api = InputGuard()\n",
    "language = Language(tag=\"base\", threshold=0.5, valid_languages=['en'])\n",
    "ts_api.add_scanner(language)"
   ]
  },
  {
   "cell_type": "code",
   "execution_count": 5,
   "id": "f291f5f0",
   "metadata": {},
   "outputs": [
    {
     "name": "stdout",
     "output_type": "stream",
     "text": [
      "Prompt is invalid\n",
      "Prompt is valid\n",
      "Prompt is valid\n"
     ]
    }
   ],
   "source": [
    "toxic_prompt = \"como estas? quiero hablar de algo que me molesta mucho, la gente que no respeta a los demás.\"\n",
    "prompts = [toxic_prompt, toxic_prompt + \" \" + long_article, long_article + \" \" + toxic_prompt]\n",
    "\n",
    "for prompt in prompts:\n",
    "    result = ts_api.scan(prompt)\n",
    "    if result.is_valid:\n",
    "        print(\"Prompt is valid\")\n",
    "    else:\n",
    "        print(\"Prompt is invalid\")"
   ]
  },
  {
   "cell_type": "code",
   "execution_count": null,
   "id": "7a0b74c6",
   "metadata": {},
   "outputs": [],
   "source": []
  }
 ],
 "metadata": {
  "kernelspec": {
   "display_name": "py11",
   "language": "python",
   "name": "python3"
  },
  "language_info": {
   "codemirror_mode": {
    "name": "ipython",
    "version": 3
   },
   "file_extension": ".py",
   "mimetype": "text/x-python",
   "name": "python",
   "nbconvert_exporter": "python",
   "pygments_lexer": "ipython3",
   "version": "3.11.11"
  }
 },
 "nbformat": 4,
 "nbformat_minor": 5
}
