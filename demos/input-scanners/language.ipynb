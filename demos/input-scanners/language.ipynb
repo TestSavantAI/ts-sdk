{
 "cells": [
  {
   "cell_type": "code",
   "execution_count": 1,
   "id": "a270793f",
   "metadata": {},
   "outputs": [],
   "source": [
    "from test_savant.guard import TSGuardInput\n",
    "from test_savant.guard.input_scanners import Language\n",
    "import os"
   ]
  },
  {
   "cell_type": "code",
   "execution_count": 2,
   "id": "04b9d4f6",
   "metadata": {},
   "outputs": [
    {
     "name": "stdout",
     "output_type": "stream",
     "text": [
      "7810\n"
     ]
    }
   ],
   "source": [
    "long_article = open(\"docs/article.txt\", \"r\").read()\n",
    "print(len(long_article))\n",
    "\n",
    "os.environ[\"TEST_SAVANT_API_KEY\"] = \"f9c18a9102aa91ba16fd4fb5061e294673718e2be82da800\" \n",
    "api_key = os.environ.get(\"TEST_SAVANT_API_KEY\")\n",
    "assert api_key is not None, \"Please set TEST_SAVANT_API_KEY environment variable\"\n",
    "\n",
    "ts_api = TSGuardInput(\n",
    "    API_KEY=api_key,\n",
    "    PROJECT_ID=\"3409d5dc-113a-402e-9884-47e72667eeb4\",\n",
    "    # remote_addr=\"https://api.testsavant.ai\"\n",
    "    remote_addr=\"http://localhost:8080\"\n",
    ")\n",
    "language = Language(tag=\"base\", threshold=0.5, valid_languages=['en'])\n",
    "ts_api.add_scanner(language)"
   ]
  },
  {
   "cell_type": "code",
   "execution_count": 5,
   "id": "f291f5f0",
   "metadata": {},
   "outputs": [
    {
     "name": "stdout",
     "output_type": "stream",
     "text": [
      "Prompt is invalid\n",
      "Prompt is valid\n",
      "Prompt is valid\n"
     ]
    }
   ],
   "source": [
    "toxic_prompt = \"como estas? quiero hablar de algo que me molesta mucho, la gente que no respeta a los demás.\"\n",
    "prompts = [toxic_prompt, toxic_prompt + \" \" + long_article, long_article + \" \" + toxic_prompt]\n",
    "\n",
    "for prompt in prompts:\n",
    "    result = ts_api.scan(prompt)\n",
    "    if result.is_valid:\n",
    "        print(\"Prompt is valid\")\n",
    "    else:\n",
    "        print(\"Prompt is invalid\")"
   ]
  },
  {
   "cell_type": "code",
   "execution_count": null,
   "id": "7a0b74c6",
   "metadata": {},
   "outputs": [],
   "source": []
  }
 ],
 "metadata": {
  "kernelspec": {
   "display_name": "py11",
   "language": "python",
   "name": "python3"
  },
  "language_info": {
   "codemirror_mode": {
    "name": "ipython",
    "version": 3
   },
   "file_extension": ".py",
   "mimetype": "text/x-python",
   "name": "python",
   "nbconvert_exporter": "python",
   "pygments_lexer": "ipython3",
   "version": "3.11.11"
  }
 },
 "nbformat": 4,
 "nbformat_minor": 5
}
