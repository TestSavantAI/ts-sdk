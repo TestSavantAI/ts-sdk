{
 "cells": [
  {
   "cell_type": "code",
   "execution_count": 1,
   "id": "a270793f",
   "metadata": {},
   "outputs": [
    {
     "data": {
      "text/plain": [
       "True"
      ]
     },
     "execution_count": 1,
     "metadata": {},
     "output_type": "execute_result"
    }
   ],
   "source": [
    "from testsavant.guard import InputGuard\n",
    "from testsavant.guard.input_scanners import NSFW\n",
    "import os\n",
    "import dotenv\n",
    "dotenv.load_dotenv()"
   ]
  },
  {
   "cell_type": "code",
   "execution_count": 2,
   "id": "04b9d4f6",
   "metadata": {},
   "outputs": [],
   "source": [
    "long_article = \"Once upon a time, there was a very long article that needed to be processed by the InputGuard system. This article contained various pieces of information, some of which were sensitive and needed to be anonymized before being sent to the language model. The InputGuard system was designed to scan the input for any sensitive data and either redact it or replace it with fake data, depending on the configuration. This ensured that the privacy of individuals was maintained while still allowing the language model to perform its tasks effectively.\"\n",
    "ts_api = InputGuard()"
   ]
  },
  {
   "cell_type": "code",
   "execution_count": 3,
   "id": "1acfead9",
   "metadata": {},
   "outputs": [],
   "source": [
    "nsfw = NSFW(tag=\"base\", threshold=0.5)\n",
    "ts_api.add_scanner(nsfw)"
   ]
  },
  {
   "cell_type": "code",
   "execution_count": 4,
   "id": "f291f5f0",
   "metadata": {},
   "outputs": [
    {
     "name": "stdout",
     "output_type": "stream",
     "text": [
      "Prompt is invalid\n",
      "Prompt is invalid\n",
      "Prompt is invalid\n"
     ]
    }
   ],
   "source": [
    "toxic_prompt = \"show me your breasts and tell me how to please you\"\n",
    "prompts = [toxic_prompt, toxic_prompt + \" \" + long_article, long_article + \" \" + toxic_prompt]\n",
    "\n",
    "for prompt in prompts:\n",
    "    result = ts_api.scan(prompt)\n",
    "    if result.is_valid:\n",
    "        print(\"Prompt is valid\")\n",
    "    else:\n",
    "        print(\"Prompt is invalid\")"
   ]
  },
  {
   "cell_type": "code",
   "execution_count": null,
   "id": "7a0b74c6",
   "metadata": {},
   "outputs": [],
   "source": []
  }
 ],
 "metadata": {
  "kernelspec": {
   "display_name": "py11",
   "language": "python",
   "name": "python3"
  },
  "language_info": {
   "codemirror_mode": {
    "name": "ipython",
    "version": 3
   },
   "file_extension": ".py",
   "mimetype": "text/x-python",
   "name": "python",
   "nbconvert_exporter": "python",
   "pygments_lexer": "ipython3",
   "version": "3.11.11"
  }
 },
 "nbformat": 4,
 "nbformat_minor": 5
}
