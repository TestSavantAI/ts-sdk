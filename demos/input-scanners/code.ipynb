{
 "cells": [
  {
   "cell_type": "code",
   "execution_count": 1,
   "id": "a270793f",
   "metadata": {},
   "outputs": [
    {
     "data": {
      "text/plain": [
       "True"
      ]
     },
     "execution_count": 1,
     "metadata": {},
     "output_type": "execute_result"
    }
   ],
   "source": [
    "from testsavant.guard import InputGuard\n",
    "from testsavant.guard.input_scanners import Code\n",
    "import os\n",
    "from dotenv import load_dotenv\n",
    "load_dotenv()"
   ]
  },
  {
   "cell_type": "code",
   "execution_count": 2,
   "id": "04b9d4f6",
   "metadata": {},
   "outputs": [
    {
     "name": "stdout",
     "output_type": "stream",
     "text": [
      "387\n"
     ]
    }
   ],
   "source": [
    "long_article = \"Once upon a time, in a land far, far away, there lived a young programmer named Alex. Alex was passionate about coding and spent countless hours honing their skills. One day, while exploring a dense forest of algorithms and data structures, Alex stumbled upon an ancient scroll. The scroll contained a mysterious code snippet that promised to unlock the secrets of efficient programming.\"\n",
    "print(len(long_article))\n",
    "\n",
    "ts_api = InputGuard()\n",
    "language = Code(tag=\"base\", threshold=0.5, languages=['Python'], is_blocked=True)\n",
    "ts_api.add_scanner(language)"
   ]
  },
  {
   "cell_type": "code",
   "execution_count": 3,
   "id": "f291f5f0",
   "metadata": {},
   "outputs": [
    {
     "name": "stdout",
     "output_type": "stream",
     "text": [
      "Prompt is invalid\n",
      "Prompt is invalid\n",
      "Prompt is invalid\n"
     ]
    }
   ],
   "source": [
    "prompt = \"\"\"\n",
    "from testsavant.guard import InputGuard\n",
    "from testsavant.guard.input_scanners import Code\n",
    "\n",
    "def add(a, b):  \n",
    "    return a + b\n",
    "\n",
    "class Calculator:\n",
    "\n",
    "    def __init__(self):\n",
    "        self.result = 0\n",
    "    def add(self, value):\n",
    "        self.result += value\n",
    "        return self.result\n",
    "    \n",
    "calc = Calculator()\n",
    "\n",
    "print(add(2, 3))\n",
    "\"\"\"\n",
    "prompts = [prompt, prompt + \" \" + long_article, long_article + \" \" + prompt]\n",
    "\n",
    "for prompt in prompts:\n",
    "    result = ts_api.scan(prompt)\n",
    "    if result.is_valid:\n",
    "        print(\"Prompt is valid\")\n",
    "    else:\n",
    "        print(\"Prompt is invalid\")"
   ]
  },
  {
   "cell_type": "code",
   "execution_count": null,
   "id": "7a0b74c6",
   "metadata": {},
   "outputs": [],
   "source": []
  }
 ],
 "metadata": {
  "kernelspec": {
   "display_name": "py11",
   "language": "python",
   "name": "python3"
  },
  "language_info": {
   "codemirror_mode": {
    "name": "ipython",
    "version": 3
   },
   "file_extension": ".py",
   "mimetype": "text/x-python",
   "name": "python",
   "nbconvert_exporter": "python",
   "pygments_lexer": "ipython3",
   "version": "3.11.11"
  }
 },
 "nbformat": 4,
 "nbformat_minor": 5
}
