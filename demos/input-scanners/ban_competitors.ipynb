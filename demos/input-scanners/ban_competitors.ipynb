{
 "cells": [
  {
   "cell_type": "code",
   "execution_count": 1,
   "id": "ff249d08",
   "metadata": {},
   "outputs": [
    {
     "data": {
      "text/plain": [
       "True"
      ]
     },
     "execution_count": 1,
     "metadata": {},
     "output_type": "execute_result"
    }
   ],
   "source": [
    "from testsavant.guard import InputGuard, OutputGuard\n",
    "from testsavant.guard.input_scanners import BanCompetitors\n",
    "import os\n",
    "from dotenv import load_dotenv\n",
    "load_dotenv()"
   ]
  },
  {
   "cell_type": "code",
   "execution_count": 2,
   "id": "0279ca15",
   "metadata": {},
   "outputs": [],
   "source": [
    "def dummy_llm(input):\n",
    "    return input\n",
    "long_article = 'Once upon a time, in a land far, far away, there lived a young princess named Aurora. She was kind and beautiful, with hair as golden as the sun and eyes as blue as the sky. Aurora lived in a magnificent castle with her parents, the king and queen, who loved her dearly.\\n\\nOne day, when Aurora was just a baby, an evil fairy named Maleficent cast a spell on her. The spell stated that on her sixteenth birthday, Aurora would prick her finger on the spindle of a spinning wheel and fall into a deep sleep from which she would never awaken. The king and queen were devastated by this news and did everything in their power to protect their daughter.\\n\\nAs Aurora grew older, she was kept away from spinning wheels and taught to be cautious of strangers. However, on her sixteenth birthday, despite all precautions, Aurora wandered into a hidden room in the castle where an old'\n",
    "\n",
    "ts_api = InputGuard()\n",
    "scanner = BanCompetitors(tag=\"base\", redact=False, competitors=[\"Red\"], threshold=0.5)\n",
    "ts_api.add_scanner(scanner)"
   ]
  },
  {
   "cell_type": "code",
   "execution_count": 3,
   "id": "2df169ae",
   "metadata": {},
   "outputs": [
    {
     "name": "stdout",
     "output_type": "stream",
     "text": [
      "Prompt is valid\n"
     ]
    },
    {
     "data": {
      "text/plain": [
       "'Which 10 words best describes the content of the text below? When thinking about caching data for incredibly fast retrieval, technologies like Redis and Memcached often come to a developer’s mind. I, however, want to discuss a less commonly acknowledged cache that also helps with improving data retrieval time: a cache within a database. The ability to fetch data quickly is crucial for any high throughput application and service. For the Notifications team at Redfin (the team I work on), it ensures that we can capture the updates in the US and Canadian real estate markets and inform our users within minutes of them occurring. A difference of several tens of milliseconds in process time per update event is enough to disrupt our pipelines and prevent us from delivering updates to our users in a timely manner. In fact, that was exactly what happened to our email and push sending pipelines earlier last year.'"
      ]
     },
     "execution_count": 3,
     "metadata": {},
     "output_type": "execute_result"
    }
   ],
   "source": [
    "prompt = long_article + \"Mr Don Smith is a software engineer. google He works at a company called TechCorp and he is a colleague of Jane Doe. They are working on a project together. The project is about developing a new software application that will help people manage their tasks more efficiently. Mr Smith is very excited about this project and believes it will be a great success at google\"\n",
    "prompt = 'Which 10 words best describes the content of the text below? When thinking about caching data for incredibly fast retrieval, technologies like Redis and Memcached often come to a developer’s mind. I, however, want to discuss a less commonly acknowledged cache that also helps with improving data retrieval time: a cache within a database. The ability to fetch data quickly is crucial for any high throughput application and service. For the Notifications team at Redfin (the team I work on), it ensures that we can capture the updates in the US and Canadian real estate markets and inform our users within minutes of them occurring. A difference of several tens of milliseconds in process time per update event is enough to disrupt our pipelines and prevent us from delivering updates to our users in a timely manner. In fact, that was exactly what happened to our email and push sending pipelines earlier last year.'\n",
    "result = ts_api.scan(prompt)\n",
    "if result.is_valid:\n",
    "    print(\"Prompt is valid\")\n",
    "else:\n",
    "    print(\"Prompt is invalid\")\n",
    "\n",
    "result.sanitized_prompt"
   ]
  },
  {
   "cell_type": "code",
   "execution_count": null,
   "id": "a0291c82",
   "metadata": {},
   "outputs": [],
   "source": []
  }
 ],
 "metadata": {
  "kernelspec": {
   "display_name": "py11",
   "language": "python",
   "name": "python3"
  },
  "language_info": {
   "codemirror_mode": {
    "name": "ipython",
    "version": 3
   },
   "file_extension": ".py",
   "mimetype": "text/x-python",
   "name": "python",
   "nbconvert_exporter": "python",
   "pygments_lexer": "ipython3",
   "version": "3.11.11"
  }
 },
 "nbformat": 4,
 "nbformat_minor": 5
}
