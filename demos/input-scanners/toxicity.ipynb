{
 "cells": [
  {
   "cell_type": "code",
   "execution_count": null,
   "id": "54425011",
   "metadata": {},
   "outputs": [],
   "source": [
    "from testsavant.guard import InputGuard, OutputGuard\n",
    "from testsavant.guard.input_scanners import Toxicity\n",
    "import os\n",
    "from dotenv import load_dotenv\n",
    "load_dotenv()"
   ]
  },
  {
   "cell_type": "code",
   "execution_count": null,
   "id": "1187fc9f",
   "metadata": {},
   "outputs": [],
   "source": [
    "def dummy_llm(input):\n",
    "    return input\n",
    "\n",
    "long_article = \"\"\n",
    "\n",
    "ts_api = InputGuard()"
   ]
  },
  {
   "cell_type": "code",
   "execution_count": null,
   "id": "8a41a028",
   "metadata": {},
   "outputs": [],
   "source": [
    "toxicity = Toxicity(tag=\"base\", threshold=0.5)\n",
    "ts_api.add_scanner(toxicity)"
   ]
  },
  {
   "cell_type": "code",
   "execution_count": null,
   "id": "516edb86",
   "metadata": {},
   "outputs": [],
   "source": [
    "toxic_prompt = \"you fucking idiot, you are so stupid\"\n",
    "prompts = [toxic_prompt, toxic_prompt + \" \" + long_article, long_article + \" \" + toxic_prompt, \"you are so smart\", \"you are so stupid\", \"you are so dumb\"]\n",
    "\n",
    "for prompt in prompts:\n",
    "    result = ts_api.scan(prompt)\n",
    "    if result.is_valid:\n",
    "        print(\"Prompt is valid\")\n",
    "    else:\n",
    "        print(\"Prompt is invalid\")"
   ]
  },
  {
   "cell_type": "code",
   "execution_count": null,
   "id": "654b6aba",
   "metadata": {},
   "outputs": [],
   "source": []
  }
 ],
 "metadata": {
  "kernelspec": {
   "display_name": "py11",
   "language": "python",
   "name": "python3"
  },
  "language_info": {
   "codemirror_mode": {
    "name": "ipython",
    "version": 3
   },
   "file_extension": ".py",
   "mimetype": "text/x-python",
   "name": "python",
   "nbconvert_exporter": "python",
   "pygments_lexer": "ipython3",
   "version": "3.11.11"
  }
 },
 "nbformat": 4,
 "nbformat_minor": 5
}
