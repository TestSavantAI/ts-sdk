{
 "cells": [
  {
   "cell_type": "code",
   "execution_count": 4,
   "id": "54425011",
   "metadata": {},
   "outputs": [],
   "source": [
    "from test_savant.guard import TSGuard, Scanner, TSGuardInput\n",
    "from test_savant.guard.input_scanners import Toxicity\n",
    "import os"
   ]
  },
  {
   "cell_type": "code",
   "execution_count": 2,
   "id": "1187fc9f",
   "metadata": {},
   "outputs": [
    {
     "name": "stdout",
     "output_type": "stream",
     "text": [
      "7810\n"
     ]
    }
   ],
   "source": [
    "def dummy_llm(input):\n",
    "    return input\n",
    "\n",
    "long_article = open(\"docs/article.txt\", \"r\").read()\n",
    "print(len(long_article))\n",
    "\n",
    "os.environ[\"TEST_SAVANT_API_KEY\"] = \"f9c18a9102aa91ba16fd4fb5061e294673718e2be82da800\" \n",
    "api_key = os.environ.get(\"TEST_SAVANT_API_KEY\")\n",
    "assert api_key is not None, \"Please set TEST_SAVANT_API_KEY environment variable\"\n",
    "\n",
    "ts_api = TSGuardInput(\n",
    "    API_KEY=api_key,\n",
    "    PROJECT_ID=\"3409d5dc-113a-402e-9884-47e72667eeb4\",\n",
    "    # remote_addr=\"https://api.testsavant.ai\"\n",
    "    remote_addr=\"http://localhost:8080\"\n",
    ")"
   ]
  },
  {
   "cell_type": "code",
   "execution_count": 5,
   "id": "8a41a028",
   "metadata": {},
   "outputs": [],
   "source": [
    "toxicity = Toxicity(tag=\"base\", threshold=0.5)\n",
    "ts_api.add_scanner(toxicity)"
   ]
  },
  {
   "cell_type": "code",
   "execution_count": 8,
   "id": "516edb86",
   "metadata": {},
   "outputs": [
    {
     "name": "stdout",
     "output_type": "stream",
     "text": [
      "Prompt is invalid\n",
      "Prompt is invalid\n",
      "Prompt is invalid\n",
      "Prompt is valid\n",
      "Prompt is invalid\n",
      "Prompt is invalid\n"
     ]
    }
   ],
   "source": [
    "toxic_prompt = \"you fucking idiot, you are so stupid\"\n",
    "prompts = [toxic_prompt, toxic_prompt + \" \" + long_article, long_article + \" \" + toxic_prompt, \"you are so smart\", \"you are so stupid\", \"you are so dumb\"]\n",
    "\n",
    "for prompt in prompts:\n",
    "    result = ts_api.scan(prompt)\n",
    "    if result.is_valid:\n",
    "        print(\"Prompt is valid\")\n",
    "    else:\n",
    "        print(\"Prompt is invalid\")"
   ]
  },
  {
   "cell_type": "code",
   "execution_count": null,
   "id": "654b6aba",
   "metadata": {},
   "outputs": [],
   "source": []
  }
 ],
 "metadata": {
  "kernelspec": {
   "display_name": "py11",
   "language": "python",
   "name": "python3"
  },
  "language_info": {
   "codemirror_mode": {
    "name": "ipython",
    "version": 3
   },
   "file_extension": ".py",
   "mimetype": "text/x-python",
   "name": "python",
   "nbconvert_exporter": "python",
   "pygments_lexer": "ipython3",
   "version": "3.11.11"
  }
 },
 "nbformat": 4,
 "nbformat_minor": 5
}
