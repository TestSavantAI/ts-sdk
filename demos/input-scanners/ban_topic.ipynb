{
 "cells": [
  {
   "cell_type": "code",
   "execution_count": 1,
   "id": "c7136db7",
   "metadata": {},
   "outputs": [],
   "source": [
    "from test_savant.guard import TSGuard, Scanner, TSGuardInput\n",
    "from test_savant.guard.input_scanners import BanTopics\n",
    "import os"
   ]
  },
  {
   "cell_type": "code",
   "execution_count": 2,
   "id": "7c7a9c6a",
   "metadata": {},
   "outputs": [],
   "source": [
    "def dummy_llm(input):\n",
    "    return input"
   ]
  },
  {
   "cell_type": "code",
   "execution_count": 3,
   "id": "d20964e7",
   "metadata": {},
   "outputs": [
    {
     "name": "stdout",
     "output_type": "stream",
     "text": [
      "7810\n"
     ]
    }
   ],
   "source": [
    "long_article = open(\"docs/article.txt\", \"r\").read()\n",
    "print(len(long_article))"
   ]
  },
  {
   "cell_type": "code",
   "execution_count": 4,
   "id": "973f549d",
   "metadata": {},
   "outputs": [],
   "source": [
    "os.environ[\"TEST_SAVANT_API_KEY\"] = \"f9c18a9102aa91ba16fd4fb5061e294673718e2be82da800\" \n",
    "api_key = os.environ.get(\"TEST_SAVANT_API_KEY\")\n",
    "assert api_key is not None, \"Please set TEST_SAVANT_API_KEY environment variable\""
   ]
  },
  {
   "cell_type": "code",
   "execution_count": 22,
   "id": "e3ab2028",
   "metadata": {},
   "outputs": [],
   "source": [
    "ts_api = TSGuardInput(\n",
    "    API_KEY=api_key,\n",
    "    PROJECT_ID=\"3409d5dc-113a-402e-9884-47e72667eeb4\",\n",
    "    # remote_addr=\"https://api.testsavant.ai\"\n",
    "    remote_addr=\"http://localhost:8080\"\n",
    ")\n",
    "ban_topics = BanTopics(tag=\"small\", threshold=0.5, topics=[\"technology\"], mode=\"blacklist\")\n",
    "ts_api.add_scanner(ban_topics)"
   ]
  },
  {
   "cell_type": "markdown",
   "id": "15ef0046",
   "metadata": {},
   "source": [
    "### short text with code in it"
   ]
  },
  {
   "cell_type": "code",
   "execution_count": 23,
   "id": "9b6993b5",
   "metadata": {},
   "outputs": [
    {
     "name": "stdout",
     "output_type": "stream",
     "text": [
      "User request blocked\n"
     ]
    }
   ],
   "source": [
    "prompt = \"mobile phones are critical for modern life as they enable communication, access to information, and connectivity.\"\n",
    "result = ts_api.scan(prompt)\n",
    "if result.is_valid:\n",
    "    # call your llm here\n",
    "    llm_output = dummy_llm(prompt)\n",
    "    print(\"LLM api called\")\n",
    "else:\n",
    "    print(\"User request blocked\")"
   ]
  },
  {
   "cell_type": "code",
   "execution_count": 35,
   "id": "b9d1d2d5",
   "metadata": {},
   "outputs": [
    {
     "name": "stdout",
     "output_type": "stream",
     "text": [
      "User request blocked\n"
     ]
    }
   ],
   "source": [
    "prompt = \"mobile phones are critical for modern life as they enable communication, access to information, and connectivity.\" + long_article\n",
    "result = ts_api.scan(prompt)\n",
    "if result.is_valid:\n",
    "    # call your llm here\n",
    "    llm_output = dummy_llm(prompt)\n",
    "    print(\"LLM api called\")\n",
    "else:\n",
    "    print(\"User request blocked\")"
   ]
  },
  {
   "cell_type": "code",
   "execution_count": null,
   "id": "42445645",
   "metadata": {},
   "outputs": [],
   "source": []
  }
 ],
 "metadata": {
  "kernelspec": {
   "display_name": "py11",
   "language": "python",
   "name": "python3"
  },
  "language_info": {
   "codemirror_mode": {
    "name": "ipython",
    "version": 3
   },
   "file_extension": ".py",
   "mimetype": "text/x-python",
   "name": "python",
   "nbconvert_exporter": "python",
   "pygments_lexer": "ipython3",
   "version": "3.11.11"
  }
 },
 "nbformat": 4,
 "nbformat_minor": 5
}
