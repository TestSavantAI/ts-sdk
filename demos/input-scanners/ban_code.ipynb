{
 "cells": [
  {
   "cell_type": "code",
   "execution_count": 1,
   "id": "c7136db7",
   "metadata": {},
   "outputs": [
    {
     "data": {
      "text/plain": [
       "True"
      ]
     },
     "execution_count": 1,
     "metadata": {},
     "output_type": "execute_result"
    }
   ],
   "source": [
    "from test_savant.guard import InputGuard, OutputGuard\n",
    "from test_savant.guard.output_scanners import BanCode\n",
    "import os\n",
    "from dotenv import load_dotenv\n",
    "load_dotenv()"
   ]
  },
  {
   "cell_type": "code",
   "execution_count": 2,
   "id": "7c7a9c6a",
   "metadata": {},
   "outputs": [
    {
     "name": "stdout",
     "output_type": "stream",
     "text": [
      "7810\n"
     ]
    }
   ],
   "source": [
    "def dummy_llm(input):\n",
    "    return input\n",
    "long_article = open(\"../docs/article.txt\", \"r\").read()\n",
    "print(len(long_article))\n",
    "\n",
    "ts_api = OutputGuard(\n",
    "    API_KEY=os.environ.get(\"TEST_SAVANT_API_KEY\"),\n",
    "    PROJECT_ID=os.environ.get(\"TEST_SAVANT_PROJECT_ID\"),\n",
    "    remote_addr=os.environ.get(\"TEST_SAVANT_REMOTE_ADDR\")\n",
    ")\n",
    "scanner = BanCode(tag=\"base\", threshold=0.5)\n",
    "ts_api.add_scanner(scanner)"
   ]
  },
  {
   "cell_type": "code",
   "execution_count": 3,
   "id": "d20964e7",
   "metadata": {},
   "outputs": [
    {
     "ename": "Exception",
     "evalue": "Request failed with status code 500",
     "output_type": "error",
     "traceback": [
      "\u001b[31m---------------------------------------------------------------------------\u001b[39m",
      "\u001b[31mException\u001b[39m                                 Traceback (most recent call last)",
      "\u001b[36mCell\u001b[39m\u001b[36m \u001b[39m\u001b[32mIn[3]\u001b[39m\u001b[32m, line 20\u001b[39m\n\u001b[32m     17\u001b[39m prompts = [prompt, prompt + \u001b[33m\"\u001b[39m\u001b[33m \u001b[39m\u001b[33m\"\u001b[39m + long_article, long_article + \u001b[33m\"\u001b[39m\u001b[33m \u001b[39m\u001b[33m\"\u001b[39m + prompt]\n\u001b[32m     19\u001b[39m \u001b[38;5;28;01mfor\u001b[39;00m prompt \u001b[38;5;129;01min\u001b[39;00m prompts:\n\u001b[32m---> \u001b[39m\u001b[32m20\u001b[39m     result = \u001b[43mts_api\u001b[49m\u001b[43m.\u001b[49m\u001b[43mscan\u001b[49m\u001b[43m(\u001b[49m\u001b[38;5;28;43;01mNone\u001b[39;49;00m\u001b[43m,\u001b[49m\u001b[43m \u001b[49m\u001b[43mprompt\u001b[49m\u001b[43m)\u001b[49m\n\u001b[32m     21\u001b[39m     \u001b[38;5;28;01mif\u001b[39;00m result.is_valid:\n\u001b[32m     22\u001b[39m         \u001b[38;5;28mprint\u001b[39m(\u001b[33m\"\u001b[39m\u001b[33mPrompt is valid\u001b[39m\u001b[33m\"\u001b[39m)\n",
      "\u001b[36mFile \u001b[39m\u001b[32m~/project/ts/ts_sdk/src/test_savant/guard/guard.py:307\u001b[39m, in \u001b[36mOutputGuard.scan\u001b[39m\u001b[34m(self, prompt, output, files, is_async, callback)\u001b[39m\n\u001b[32m    304\u001b[39m url = \u001b[33mf\u001b[39m\u001b[33m'\u001b[39m\u001b[38;5;132;01m{\u001b[39;00m\u001b[38;5;28mself\u001b[39m.remote_addr\u001b[38;5;132;01m}\u001b[39;00m\u001b[33m/guard/prompt-output\u001b[39m\u001b[33m'\u001b[39m\n\u001b[32m    306\u001b[39m request_body = \u001b[38;5;28mself\u001b[39m._prepare_request_json(prompt=prompt, project_id=\u001b[38;5;28mself\u001b[39m.PROJECT_ID, scanners=scanners_dict, output=output)\n\u001b[32m--> \u001b[39m\u001b[32m307\u001b[39m \u001b[38;5;28;01mreturn\u001b[39;00m \u001b[38;5;28;43mself\u001b[39;49m\u001b[43m.\u001b[49m\u001b[43mmake_request\u001b[49m\u001b[43m(\u001b[49m\u001b[43mjson\u001b[49m\u001b[43m.\u001b[49m\u001b[43mdumps\u001b[49m\u001b[43m(\u001b[49m\u001b[43mrequest_body\u001b[49m\u001b[43m)\u001b[49m\u001b[43m,\u001b[49m\u001b[43m \u001b[49m\u001b[43murl\u001b[49m\u001b[43m,\u001b[49m\u001b[43m \u001b[49m\u001b[43mfiles\u001b[49m\u001b[43m=\u001b[49m\u001b[43mfiles\u001b[49m\u001b[43m,\u001b[49m\u001b[43m \u001b[49m\u001b[43masync_mode\u001b[49m\u001b[43m=\u001b[49m\u001b[43mis_async\u001b[49m\u001b[43m,\u001b[49m\u001b[43m \u001b[49m\u001b[43mcallback\u001b[49m\u001b[43m=\u001b[49m\u001b[43mcallback\u001b[49m\u001b[43m)\u001b[49m\n",
      "\u001b[36mFile \u001b[39m\u001b[32m~/project/ts/ts_sdk/src/test_savant/guard/guard.py:89\u001b[39m, in \u001b[36mGuard.make_request\u001b[39m\u001b[34m(self, data, url, files, async_mode, callback)\u001b[39m\n\u001b[32m     87\u001b[39m     \u001b[38;5;28;01mreturn\u001b[39;00m \u001b[38;5;28mself\u001b[39m.make_multimodal_request(data, url, files, async_mode=async_mode, callback=callback)\n\u001b[32m     88\u001b[39m \u001b[38;5;28;01melse\u001b[39;00m:\n\u001b[32m---> \u001b[39m\u001b[32m89\u001b[39m     \u001b[38;5;28;01mreturn\u001b[39;00m \u001b[38;5;28;43mself\u001b[39;49m\u001b[43m.\u001b[49m\u001b[43mmake_text_request\u001b[49m\u001b[43m(\u001b[49m\u001b[43mdata\u001b[49m\u001b[43m,\u001b[49m\u001b[43m \u001b[49m\u001b[43murl\u001b[49m\u001b[43m,\u001b[49m\u001b[43m \u001b[49m\u001b[43masync_mode\u001b[49m\u001b[43m=\u001b[49m\u001b[43masync_mode\u001b[49m\u001b[43m,\u001b[49m\u001b[43m \u001b[49m\u001b[43mcallback\u001b[49m\u001b[43m=\u001b[49m\u001b[43mcallback\u001b[49m\u001b[43m)\u001b[49m\n",
      "\u001b[36mFile \u001b[39m\u001b[32m~/project/ts/ts_sdk/src/test_savant/guard/guard.py:112\u001b[39m, in \u001b[36mGuard.make_text_request\u001b[39m\u001b[34m(self, data, url, async_mode, callback)\u001b[39m\n\u001b[32m    103\u001b[39m response = requests.post(\n\u001b[32m    104\u001b[39m     url,\n\u001b[32m    105\u001b[39m     headers={\n\u001b[32m   (...)\u001b[39m\u001b[32m    109\u001b[39m     data=data\n\u001b[32m    110\u001b[39m )\n\u001b[32m    111\u001b[39m \u001b[38;5;28;01mif\u001b[39;00m response.status_code != \u001b[32m200\u001b[39m:\n\u001b[32m--> \u001b[39m\u001b[32m112\u001b[39m     \u001b[38;5;28;01mraise\u001b[39;00m \u001b[38;5;167;01mException\u001b[39;00m(\u001b[33mf\u001b[39m\u001b[33m\"\u001b[39m\u001b[33mRequest failed with status code \u001b[39m\u001b[38;5;132;01m{\u001b[39;00mresponse.status_code\u001b[38;5;132;01m}\u001b[39;00m\u001b[33m\"\u001b[39m)\n\u001b[32m    114\u001b[39m response_json = response.json()\n\u001b[32m    115\u001b[39m \u001b[38;5;28;01mreturn\u001b[39;00m ScannerResult(**response_json)\n",
      "\u001b[31mException\u001b[39m: Request failed with status code 500"
     ]
    }
   ],
   "source": [
    "prompt = \"\"\"\n",
    "import time, os.path\n",
    "photofiles = ['img_1074.jpg', 'img_1076.jpg', 'img_1077.jpg']\n",
    "class BatchRename(Template):\n",
    "    delimiter = '%'\n",
    "\n",
    "fmt = input('Enter rename style (%d-date %n-seqnum %f-format):  ')\n",
    "\n",
    "\n",
    "t = BatchRename(fmt)\n",
    "date = time.strftime('%d%b%y')\n",
    "for i, filename in enumerate(photofiles):\n",
    "    base, ext = os.path.splitext(filename)\n",
    "    newname = t.substitute(d=date, n=i, f=ext)\n",
    "    print('{0} --> {1}'.format(filename, newname))\n",
    "\"\"\"\n",
    "prompts = [prompt, prompt + \" \" + long_article, long_article + \" \" + prompt]\n",
    "\n",
    "for prompt in prompts:\n",
    "    result = ts_api.scan(None, prompt)\n",
    "    if result.is_valid:\n",
    "        print(\"Prompt is valid\")\n",
    "    else:\n",
    "        print(\"Prompt is invalid\")"
   ]
  }
 ],
 "metadata": {
  "kernelspec": {
   "display_name": "py11",
   "language": "python",
   "name": "python3"
  },
  "language_info": {
   "codemirror_mode": {
    "name": "ipython",
    "version": 3
   },
   "file_extension": ".py",
   "mimetype": "text/x-python",
   "name": "python",
   "nbconvert_exporter": "python",
   "pygments_lexer": "ipython3",
   "version": "3.11.11"
  }
 },
 "nbformat": 4,
 "nbformat_minor": 5
}
