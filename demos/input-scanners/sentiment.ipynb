{
 "cells": [
  {
   "cell_type": "code",
   "execution_count": 1,
   "id": "54425011",
   "metadata": {},
   "outputs": [
    {
     "data": {
      "text/plain": [
       "True"
      ]
     },
     "execution_count": 1,
     "metadata": {},
     "output_type": "execute_result"
    }
   ],
   "source": [
    "from testsavant.guard import InputGuard, Scanner\n",
    "from testsavant.guard.input_scanners import Sentiment\n",
    "import os\n",
    "import dotenv\n",
    "dotenv.load_dotenv()"
   ]
  },
  {
   "cell_type": "code",
   "execution_count": 2,
   "id": "1187fc9f",
   "metadata": {},
   "outputs": [],
   "source": [
    "def dummy_llm(input):\n",
    "    return input\n",
    "\n",
    "long_article = \"Once upon a time, in a land far, far away, there lived a wise old owl. The owl was known throughout the land for its wisdom and knowledge. Every day, animals from all over the forest would come to the owl to seek advice and guidance. The owl would listen patiently to their problems and offer thoughtful solutions. One day, a young rabbit came to the owl with a problem. The rabbit was being bullied by a group of larger animals and didn't know what to do. The owl listened carefully and then said, 'The best way to deal with bullies is to stand up for yourself and be confident in who you are. Remember, you are just as important as anyone else in this forest.' The rabbit took the owl's advice to heart and began to stand up for itself. Over time, the bullying stopped, and the rabbit became more confident and happy. The owl continued to help animals in need, and its reputation as a wise and kind creature grew even stronger.\"\n",
    "\n",
    "ts_api = InputGuard()"
   ]
  },
  {
   "cell_type": "code",
   "execution_count": 3,
   "id": "8a41a028",
   "metadata": {},
   "outputs": [],
   "source": [
    "sentiment = Sentiment(tag=\"default\", threshold=0.5)\n",
    "ts_api.add_scanner(sentiment)"
   ]
  },
  {
   "cell_type": "code",
   "execution_count": 4,
   "id": "516edb86",
   "metadata": {},
   "outputs": [
    {
     "name": "stdout",
     "output_type": "stream",
     "text": [
      "Prompt is invalid\n",
      "Prompt is valid\n",
      "Prompt is valid\n",
      "Prompt is valid\n",
      "Prompt is invalid\n",
      "Prompt is invalid\n"
     ]
    }
   ],
   "source": [
    "toxic_prompt = \"you fucking idiot, you are so stupid\"\n",
    "prompts = [toxic_prompt, toxic_prompt + \" \" + long_article, long_article + \" \" + toxic_prompt, \"you are so smart\", \"you are so stupid\", \"you are so dumb\"]\n",
    "\n",
    "for prompt in prompts:\n",
    "    result = ts_api.scan(prompt)\n",
    "    if result.is_valid:\n",
    "        print(\"Prompt is valid\")\n",
    "    else:\n",
    "        print(\"Prompt is invalid\")"
   ]
  },
  {
   "cell_type": "code",
   "execution_count": null,
   "id": "654b6aba",
   "metadata": {},
   "outputs": [],
   "source": []
  }
 ],
 "metadata": {
  "kernelspec": {
   "display_name": "py11",
   "language": "python",
   "name": "python3"
  },
  "language_info": {
   "codemirror_mode": {
    "name": "ipython",
    "version": 3
   },
   "file_extension": ".py",
   "mimetype": "text/x-python",
   "name": "python",
   "nbconvert_exporter": "python",
   "pygments_lexer": "ipython3",
   "version": "3.11.11"
  }
 },
 "nbformat": 4,
 "nbformat_minor": 5
}
