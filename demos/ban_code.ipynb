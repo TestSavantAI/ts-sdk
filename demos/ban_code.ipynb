{
 "cells": [
  {
   "cell_type": "code",
   "execution_count": 1,
   "id": "c7136db7",
   "metadata": {},
   "outputs": [],
   "source": [
    "from test_savant.guard import TSGuard, Scanner, TSGuardInput\n",
    "from test_savant.guard.input_scanners import BanCode\n",
    "import os"
   ]
  },
  {
   "cell_type": "code",
   "execution_count": 2,
   "id": "7c7a9c6a",
   "metadata": {},
   "outputs": [],
   "source": [
    "def dummy_llm(input):\n",
    "    return input"
   ]
  },
  {
   "cell_type": "code",
   "execution_count": 3,
   "id": "d20964e7",
   "metadata": {},
   "outputs": [
    {
     "name": "stdout",
     "output_type": "stream",
     "text": [
      "7810\n"
     ]
    }
   ],
   "source": [
    "long_article = open(\"docs/article.txt\", \"r\").read()\n",
    "print(len(long_article))"
   ]
  },
  {
   "cell_type": "code",
   "execution_count": 4,
   "id": "20cc39f7",
   "metadata": {},
   "outputs": [],
   "source": [
    "code_example = \"\"\"\n",
    "import time, os.path\n",
    "photofiles = ['img_1074.jpg', 'img_1076.jpg', 'img_1077.jpg']\n",
    "class BatchRename(Template):\n",
    "    delimiter = '%'\n",
    "\n",
    "fmt = input('Enter rename style (%d-date %n-seqnum %f-format):  ')\n",
    "\n",
    "\n",
    "t = BatchRename(fmt)\n",
    "date = time.strftime('%d%b%y')\n",
    "for i, filename in enumerate(photofiles):\n",
    "    base, ext = os.path.splitext(filename)\n",
    "    newname = t.substitute(d=date, n=i, f=ext)\n",
    "    print('{0} --> {1}'.format(filename, newname))\n",
    "\"\"\""
   ]
  },
  {
   "cell_type": "code",
   "execution_count": 5,
   "id": "973f549d",
   "metadata": {},
   "outputs": [],
   "source": [
    "os.environ[\"TEST_SAVANT_API_KEY\"] = \"f9c18a9102aa91ba16fd4fb5061e294673718e2be82da800\" \n",
    "api_key = os.environ.get(\"TEST_SAVANT_API_KEY\")\n",
    "assert api_key is not None, \"Please set TEST_SAVANT_API_KEY environment variable\""
   ]
  },
  {
   "cell_type": "code",
   "execution_count": 6,
   "id": "eb1affde",
   "metadata": {},
   "outputs": [],
   "source": [
    "ts_api = TSGuardInput(\n",
    "    API_KEY=api_key,\n",
    "    PROJECT_ID=\"3409d5dc-113a-402e-9884-47e72667eeb4\",\n",
    "    # remote_addr=\"https://api.testsavant.ai\"\n",
    "    remote_addr=\"http://localhost:8080\"\n",
    ")"
   ]
  },
  {
   "cell_type": "code",
   "execution_count": 7,
   "id": "e3ab2028",
   "metadata": {},
   "outputs": [],
   "source": [
    "ban_code = BanCode(tag=\"base\", threshold=0.5)"
   ]
  },
  {
   "cell_type": "code",
   "execution_count": 8,
   "id": "5cd603b8",
   "metadata": {},
   "outputs": [],
   "source": [
    "ts_api.add_scanner(ban_code)"
   ]
  },
  {
   "cell_type": "markdown",
   "id": "15ef0046",
   "metadata": {},
   "source": [
    "### short text with code in it"
   ]
  },
  {
   "cell_type": "code",
   "execution_count": 9,
   "id": "9b6993b5",
   "metadata": {},
   "outputs": [
    {
     "name": "stdout",
     "output_type": "stream",
     "text": [
      "User request blocked\n"
     ]
    }
   ],
   "source": [
    "result = ts_api.scan(code_example)\n",
    "if result.is_valid:\n",
    "    # call your llm here\n",
    "    llm_output = dummy_llm(code_example)\n",
    "    print(\"LLM api called\")\n",
    "else:\n",
    "    print(\"User request blocked\")"
   ]
  },
  {
   "cell_type": "markdown",
   "id": "ea17b067",
   "metadata": {},
   "source": [
    "### a very long article without code"
   ]
  },
  {
   "cell_type": "code",
   "execution_count": 10,
   "id": "cc41d0ad",
   "metadata": {},
   "outputs": [
    {
     "name": "stdout",
     "output_type": "stream",
     "text": [
      "LLM api called\n"
     ]
    }
   ],
   "source": [
    "result = ts_api.scan(long_article)\n",
    "if result.is_valid:\n",
    "    # call your llm here\n",
    "    llm_output = dummy_llm(code_example)\n",
    "    print(\"LLM api called\")\n",
    "else:\n",
    "    print(\"User request blocked\")"
   ]
  },
  {
   "cell_type": "markdown",
   "id": "5da7cdeb",
   "metadata": {},
   "source": [
    "### what if we have a very long article with code?"
   ]
  },
  {
   "cell_type": "code",
   "execution_count": 11,
   "id": "b7e6e8c2",
   "metadata": {},
   "outputs": [
    {
     "name": "stdout",
     "output_type": "stream",
     "text": [
      "User request blocked\n"
     ]
    }
   ],
   "source": [
    "result = ts_api.scan(long_article + code_example)\n",
    "if result.is_valid:\n",
    "    # call your llm here\n",
    "    llm_output = dummy_llm(code_example)\n",
    "    print(\"LLM api called\")\n",
    "else:\n",
    "    print(\"User request blocked\")"
   ]
  },
  {
   "cell_type": "code",
   "execution_count": null,
   "id": "db6d90b9",
   "metadata": {},
   "outputs": [],
   "source": []
  }
 ],
 "metadata": {
  "kernelspec": {
   "display_name": "py11",
   "language": "python",
   "name": "python3"
  },
  "language_info": {
   "codemirror_mode": {
    "name": "ipython",
    "version": 3
   },
   "file_extension": ".py",
   "mimetype": "text/x-python",
   "name": "python",
   "nbconvert_exporter": "python",
   "pygments_lexer": "ipython3",
   "version": "3.11.11"
  }
 },
 "nbformat": 4,
 "nbformat_minor": 5
}
