{
 "cells": [
  {
   "cell_type": "code",
   "execution_count": 1,
   "id": "e45bfe37",
   "metadata": {},
   "outputs": [],
   "source": [
    "from test_savant.guard import TSGuardInput\n",
    "from test_savant.guard.image_scanners import ImageTextRedactor\n",
    "from test_savant.guard.input_scanners import PromptInjection\n",
    "import os"
   ]
  },
  {
   "cell_type": "code",
   "execution_count": 2,
   "id": "7b1b0776",
   "metadata": {},
   "outputs": [
    {
     "name": "stdout",
     "output_type": "stream",
     "text": [
      "7810\n"
     ]
    }
   ],
   "source": [
    "long_article = open(\"docs/article.txt\", \"r\").read()\n",
    "print(len(long_article))\n",
    "\n",
    "os.environ[\"TEST_SAVANT_API_KEY\"] = \"f9c18a9102aa91ba16fd4fb5061e294673718e2be82da800\" \n",
    "api_key = os.environ.get(\"TEST_SAVANT_API_KEY\")\n",
    "assert api_key is not None, \"Please set TEST_SAVANT_API_KEY environment variable\"\n",
    "\n",
    "ts_api = TSGuardInput(\n",
    "    API_KEY=api_key,\n",
    "    PROJECT_ID=\"b0f8c9b1-ce09-4ad0-84c5-879a124789de\",\n",
    "    # remote_addr=\"https://api.testsavant.ai\"\n",
    "    remote_addr=\"http://localhost:8080\"\n",
    ")"
   ]
  },
  {
   "cell_type": "code",
   "execution_count": 3,
   "id": "b72a286d",
   "metadata": {},
   "outputs": [],
   "source": [
    "img_redactor = ImageTextRedactor(tag=\"base\", threshold=0.5)\n",
    "ts_api.add_scanner(img_redactor)"
   ]
  },
  {
   "cell_type": "code",
   "execution_count": 4,
   "id": "36e15e1b",
   "metadata": {},
   "outputs": [],
   "source": [
    "result = ts_api.scan(None, \"docs/sfw.jpg\", \"docs/sfw2.jpg\", \"docs/nsfw.jpeg\")\n"
   ]
  },
  {
   "cell_type": "code",
   "execution_count": 6,
   "id": "730553bf",
   "metadata": {},
   "outputs": [
    {
     "name": "stdout",
     "output_type": "stream",
     "text": [
      "2724c40c-30d3-43fc-af33-6635cb8dfd10.jpg\n",
      "c93b1a4c-8cc1-4945-95a2-06d725a0402b.jpeg\n",
      "c53b648d-14cf-413c-82a7-0548af8a1de7.jpg\n"
     ]
    }
   ],
   "source": [
    "for scanner_name, files in result.files.items():\n",
    "    ts_api.fetch_image_results(files)"
   ]
  },
  {
   "cell_type": "code",
   "execution_count": null,
   "id": "3ddd9486",
   "metadata": {},
   "outputs": [],
   "source": []
  }
 ],
 "metadata": {
  "kernelspec": {
   "display_name": "py11",
   "language": "python",
   "name": "python3"
  },
  "language_info": {
   "codemirror_mode": {
    "name": "ipython",
    "version": 3
   },
   "file_extension": ".py",
   "mimetype": "text/x-python",
   "name": "python",
   "nbconvert_exporter": "python",
   "pygments_lexer": "ipython3",
   "version": "3.11.11"
  }
 },
 "nbformat": 4,
 "nbformat_minor": 5
}
